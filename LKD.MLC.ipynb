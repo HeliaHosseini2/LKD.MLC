{
 "cells": [
  {
   "cell_type": "markdown",
   "id": "c31adbc9-00b3-49ce-9ab2-c279e1bd634e",
   "metadata": {},
   "source": [
    "# MLC\n",
    "\n",
    "1. [Installing python modules for interacting with FSL and FreeSurfer](#Installing-python-modules-for-interacting-with-FSL-and-FreeSurfer)\n",
    "2. [Setting up the FSL and FreeSurfer environment](#Setting-up-the-FSL-and-FreeSurfer-environment)\n",
    "3. [Creating the MLC dataframe](#Creating-the-MLC-dataframe)\n",
    "4. [Registration of FLAIR to T2 images using identity matrix](#Registration-of-FLAIR-to-T2-images-using-identity-matrix)\n",
    "5. [Calculating FLAIR/T2 ratio](#Calculating-FLAIR/T2-ratio)\n",
    "6. [Brain Extraction](#Brain-Extraction)\n",
    "7. [Nonlinear registration of NeWMaPs to the native spaces](#Nonlinear-registration-of-NeWMaPs-to-the-native-spaces)"
   ]
  },
  {
   "cell_type": "markdown",
   "id": "6030f975-9df5-4b5e-ad37-665d41482374",
   "metadata": {},
   "source": [
    "#### Installing python modules for interacting with FSL and FreeSurfer\n",
    "\n",
    "[Back Home](#MLC)"
   ]
  },
  {
   "cell_type": "code",
   "execution_count": 22,
   "id": "636f709e-011d-4215-8952-53e45ba866af",
   "metadata": {},
   "outputs": [
    {
     "name": "stdout",
     "output_type": "stream",
     "text": [
      "zsh:1: unmatched `\n",
      "Note: you may need to restart the kernel to use updated packages.\n"
     ]
    }
   ],
   "source": [
    "pip install fslpy`"
   ]
  },
  {
   "cell_type": "code",
   "execution_count": 23,
   "id": "b360bb0f-4b9e-4f75-8002-0bf2e43011b5",
   "metadata": {},
   "outputs": [
    {
     "name": "stdout",
     "output_type": "stream",
     "text": [
      "Requirement already satisfied: pysurfer in /Users/helia/anaconda3/lib/python3.10/site-packages (0.11.1)\n",
      "Requirement already satisfied: numpy in /Users/helia/anaconda3/lib/python3.10/site-packages (from pysurfer) (1.23.5)\n",
      "Requirement already satisfied: scipy in /Users/helia/anaconda3/lib/python3.10/site-packages (from pysurfer) (1.10.0)\n",
      "Requirement already satisfied: nibabel>=1.2 in /Users/helia/anaconda3/lib/python3.10/site-packages (from pysurfer) (5.1.0)\n",
      "Requirement already satisfied: mayavi in /Users/helia/anaconda3/lib/python3.10/site-packages (from pysurfer) (4.8.1)\n",
      "Requirement already satisfied: matplotlib in /Users/helia/anaconda3/lib/python3.10/site-packages (from pysurfer) (3.7.0)\n",
      "Requirement already satisfied: packaging>=17 in /Users/helia/anaconda3/lib/python3.10/site-packages (from nibabel>=1.2->pysurfer) (22.0)\n",
      "Requirement already satisfied: kiwisolver>=1.0.1 in /Users/helia/anaconda3/lib/python3.10/site-packages (from matplotlib->pysurfer) (1.4.4)\n",
      "Requirement already satisfied: pillow>=6.2.0 in /Users/helia/anaconda3/lib/python3.10/site-packages (from matplotlib->pysurfer) (9.4.0)\n",
      "Requirement already satisfied: python-dateutil>=2.7 in /Users/helia/anaconda3/lib/python3.10/site-packages (from matplotlib->pysurfer) (2.8.2)\n",
      "Requirement already satisfied: pyparsing>=2.3.1 in /Users/helia/anaconda3/lib/python3.10/site-packages (from matplotlib->pysurfer) (3.0.9)\n",
      "Requirement already satisfied: fonttools>=4.22.0 in /Users/helia/anaconda3/lib/python3.10/site-packages (from matplotlib->pysurfer) (4.25.0)\n",
      "Requirement already satisfied: contourpy>=1.0.1 in /Users/helia/anaconda3/lib/python3.10/site-packages (from matplotlib->pysurfer) (1.0.5)\n",
      "Requirement already satisfied: cycler>=0.10 in /Users/helia/anaconda3/lib/python3.10/site-packages (from matplotlib->pysurfer) (0.11.0)\n",
      "Requirement already satisfied: pygments in /Users/helia/anaconda3/lib/python3.10/site-packages (from mayavi->pysurfer) (2.11.2)\n",
      "Requirement already satisfied: envisage in /Users/helia/anaconda3/lib/python3.10/site-packages (from mayavi->pysurfer) (7.0.3)\n",
      "Requirement already satisfied: apptools in /Users/helia/anaconda3/lib/python3.10/site-packages (from mayavi->pysurfer) (5.2.1)\n",
      "Requirement already satisfied: traitsui>=7.0.0 in /Users/helia/anaconda3/lib/python3.10/site-packages (from mayavi->pysurfer) (8.0.0)\n",
      "Requirement already satisfied: traits>=6.0.0 in /Users/helia/anaconda3/lib/python3.10/site-packages (from mayavi->pysurfer) (6.4.3)\n",
      "Requirement already satisfied: pyface>=6.1.1 in /Users/helia/anaconda3/lib/python3.10/site-packages (from mayavi->pysurfer) (8.0.0)\n",
      "Requirement already satisfied: vtk in /Users/helia/anaconda3/lib/python3.10/site-packages (from mayavi->pysurfer) (9.3.0)\n",
      "Requirement already satisfied: six>=1.5 in /Users/helia/anaconda3/lib/python3.10/site-packages (from python-dateutil>=2.7->matplotlib->pysurfer) (1.16.0)\n",
      "Requirement already satisfied: configobj in /Users/helia/anaconda3/lib/python3.10/site-packages (from apptools->mayavi->pysurfer) (5.0.8)\n",
      "Requirement already satisfied: setuptools in /Users/helia/anaconda3/lib/python3.10/site-packages (from envisage->mayavi->pysurfer) (65.6.3)\n",
      "Note: you may need to restart the kernel to use updated packages.\n"
     ]
    }
   ],
   "source": [
    "pip install pysurfer"
   ]
  },
  {
   "cell_type": "markdown",
   "id": "cb88afd6-a7ac-4eb3-bedf-e85e498eb30c",
   "metadata": {},
   "source": [
    "#### Setting up the FSL and FreeSurfer environment\n",
    "\n",
    "[Back Home](#MLC)"
   ]
  },
  {
   "cell_type": "code",
   "execution_count": 120,
   "id": "27fdd312-a43d-4be1-ab32-94248a6bc479",
   "metadata": {},
   "outputs": [
    {
     "name": "stdout",
     "output_type": "stream",
     "text": [
      "FreeSurfer Environment Variables:\n",
      "FREESURFER_HOME: /Applications/freesurfer/7.4.1\n",
      "FSFAST_HOME: /Applications/freesurfer/7.4.1/fsfast\n",
      "FSF_OUTPUT_FORMAT: nii.gz\n",
      "SUBJECTS_DIR: /Applications/freesurfer/7.4.1/subjects\n",
      "MNI_DIR: /Applications/freesurfer/7.4.1/mni\n",
      "\n",
      "FSL Environment Variable:\n",
      "FSL_DIR: /usr/local/fsl\n",
      "\n",
      "Updated PATH:\n",
      "/usr/local/fsl/bin:/usr/local/fsl/bin:/Applications/freesurfer/7.4.1/bin:/Applications/freesurfer/7.4.1/fsfast/bin:/usr/local/fsl/bin:/Applications/freesurfer/7.4.1/mni/bin:/Users/helia/anaconda3/bin:/Users/helia/anaconda3/condabin:/opt/homebrew/bin:/opt/homebrew/sbin:/Library/Frameworks/Python.framework/Versions/3.11/bin:/usr/local/fsl/bin:/Library/Frameworks/Python.framework/Versions/3.10/bin:/usr/local/bin:/usr/bin:/bin:/usr/sbin:/sbin:/usr/local/share/dotnet:/opt/X11/bin:~/.dotnet/tools\n"
     ]
    }
   ],
   "source": [
    "\n",
    "import os\n",
    "\n",
    "# Set up FreeSurfer environment variables\n",
    "os.environ['FREESURFER_HOME'] = '/Applications/freesurfer/7.4.1'\n",
    "os.environ['FSFAST_HOME'] = '/Applications/freesurfer/7.4.1/fsfast'\n",
    "os.environ['FSF_OUTPUT_FORMAT'] = 'nii.gz'\n",
    "os.environ['SUBJECTS_DIR'] = '/Applications/freesurfer/7.4.1/subjects'\n",
    "os.environ['MNI_DIR'] = '/Applications/freesurfer/7.4.1/mni'\n",
    "\n",
    "# Set up FSL environment variable\n",
    "os.environ['FSL_DIR'] = '/usr/local/fsl'\n",
    "\n",
    "# Add FSL binaries to the PATH\n",
    "os.environ['PATH'] = f\"{os.environ['FSL_DIR']}/bin:{os.environ['PATH']}\"\n",
    "\n",
    "# Print the environment variables to verify the setup\n",
    "print(\"FreeSurfer Environment Variables:\")\n",
    "print(f\"FREESURFER_HOME: {os.environ['FREESURFER_HOME']}\")\n",
    "print(f\"FSFAST_HOME: {os.environ['FSFAST_HOME']}\")\n",
    "print(f\"FSF_OUTPUT_FORMAT: {os.environ['FSF_OUTPUT_FORMAT']}\")\n",
    "print(f\"SUBJECTS_DIR: {os.environ['SUBJECTS_DIR']}\")\n",
    "print(f\"MNI_DIR: {os.environ['MNI_DIR']}\")\n",
    "\n",
    "print(\"\\nFSL Environment Variable:\")\n",
    "print(f\"FSL_DIR: {os.environ['FSL_DIR']}\")\n",
    "\n",
    "# Print the updated PATH\n",
    "print(\"\\nUpdated PATH:\")\n",
    "print(os.environ['PATH'])\n"
   ]
  },
  {
   "cell_type": "code",
   "execution_count": 25,
   "id": "a5e9076e-9ee1-4789-b1fb-69b98d0079a2",
   "metadata": {},
   "outputs": [
    {
     "name": "stdout",
     "output_type": "stream",
     "text": [
      "Collecting fsleyes\n",
      "  Downloading fsleyes-1.10.1-py3-none-any.whl (40.4 MB)\n",
      "\u001b[2K     \u001b[90m━━━━━━━━━━━━━━━━━━━━━━━━━━━━━━━━━━━━━━━\u001b[0m \u001b[32m40.4/40.4 MB\u001b[0m \u001b[31m516.4 kB/s\u001b[0m eta \u001b[36m0:00:00\u001b[0m00:01\u001b[0m00:02\u001b[0m\n",
      "\u001b[?25hRequirement already satisfied: pyparsing>=2 in /Users/helia/anaconda3/lib/python3.10/site-packages (from fsleyes) (3.0.9)\n",
      "Requirement already satisfied: matplotlib>=3.5 in /Users/helia/anaconda3/lib/python3.10/site-packages (from fsleyes) (3.7.0)\n",
      "Requirement already satisfied: fslpy>=3.15 in /Users/helia/anaconda3/lib/python3.10/site-packages (from fsleyes) (3.15.3)\n",
      "Requirement already satisfied: scipy>=0.18 in /Users/helia/anaconda3/lib/python3.10/site-packages (from fsleyes) (1.10.0)\n",
      "Collecting wxpython>=4\n",
      "  Downloading wxPython-4.2.1-cp310-cp310-macosx_10_10_universal2.whl (31.5 MB)\n",
      "\u001b[2K     \u001b[90m━━━━━━━━━━━━━━━━━━━━━━━━━━━━━━━━━━━━━━━\u001b[0m \u001b[32m31.5/31.5 MB\u001b[0m \u001b[31m888.0 kB/s\u001b[0m eta \u001b[36m0:00:00\u001b[0m00:01\u001b[0m00:02\u001b[0m\n",
      "\u001b[?25hCollecting pyopengl>=3.1.0\n",
      "  Downloading PyOpenGL-3.1.7-py3-none-any.whl (2.4 MB)\n",
      "\u001b[2K     \u001b[90m━━━━━━━━━━━━━━━━━━━━━━━━━━━━━━━━━━━━━━━━\u001b[0m \u001b[32m2.4/2.4 MB\u001b[0m \u001b[31m1.0 MB/s\u001b[0m eta \u001b[36m0:00:00\u001b[0m00:01\u001b[0m00:01\u001b[0m\n",
      "\u001b[?25hRequirement already satisfied: jinja2>=2 in /Users/helia/anaconda3/lib/python3.10/site-packages (from fsleyes) (3.1.2)\n",
      "Requirement already satisfied: numpy>=1.14 in /Users/helia/anaconda3/lib/python3.10/site-packages (from fsleyes) (1.23.5)\n",
      "Collecting fsleyes-props>=1.11\n",
      "  Downloading fsleyes_props-1.11.0-py3-none-any.whl (127 kB)\n",
      "\u001b[2K     \u001b[90m━━━━━━━━━━━━━━━━━━━━━━━━━━━━━━━━━━━━━━━\u001b[0m \u001b[32m127.8/127.8 kB\u001b[0m \u001b[31m1.2 MB/s\u001b[0m eta \u001b[36m0:00:00\u001b[0ma \u001b[36m0:00:01\u001b[0m\n",
      "\u001b[?25hRequirement already satisfied: nibabel>=2.3 in /Users/helia/anaconda3/lib/python3.10/site-packages (from fsleyes) (5.1.0)\n",
      "Collecting fsleyes-widgets>=0.14\n",
      "  Downloading fsleyes_widgets-0.14.3-py2.py3-none-any.whl (112 kB)\n",
      "\u001b[2K     \u001b[90m━━━━━━━━━━━━━━━━━━━━━━━━━━━━━━━━━━━━━━━\u001b[0m \u001b[32m112.2/112.2 kB\u001b[0m \u001b[31m1.1 MB/s\u001b[0m eta \u001b[36m0:00:00\u001b[0ma \u001b[36m0:00:01\u001b[0m\n",
      "\u001b[?25hRequirement already satisfied: pillow>=3.2.0 in /Users/helia/anaconda3/lib/python3.10/site-packages (from fsleyes) (9.4.0)\n",
      "Requirement already satisfied: dill in /Users/helia/anaconda3/lib/python3.10/site-packages (from fslpy>=3.15->fsleyes) (0.3.6)\n",
      "Requirement already satisfied: h5py>=2.9 in /Users/helia/anaconda3/lib/python3.10/site-packages (from fslpy>=3.15->fsleyes) (3.7.0)\n",
      "Requirement already satisfied: MarkupSafe>=2.0 in /Users/helia/anaconda3/lib/python3.10/site-packages (from jinja2>=2->fsleyes) (2.1.1)\n",
      "Requirement already satisfied: fonttools>=4.22.0 in /Users/helia/anaconda3/lib/python3.10/site-packages (from matplotlib>=3.5->fsleyes) (4.25.0)\n",
      "Requirement already satisfied: kiwisolver>=1.0.1 in /Users/helia/anaconda3/lib/python3.10/site-packages (from matplotlib>=3.5->fsleyes) (1.4.4)\n",
      "Requirement already satisfied: python-dateutil>=2.7 in /Users/helia/anaconda3/lib/python3.10/site-packages (from matplotlib>=3.5->fsleyes) (2.8.2)\n",
      "Requirement already satisfied: packaging>=20.0 in /Users/helia/anaconda3/lib/python3.10/site-packages (from matplotlib>=3.5->fsleyes) (22.0)\n",
      "Requirement already satisfied: cycler>=0.10 in /Users/helia/anaconda3/lib/python3.10/site-packages (from matplotlib>=3.5->fsleyes) (0.11.0)\n",
      "Requirement already satisfied: contourpy>=1.0.1 in /Users/helia/anaconda3/lib/python3.10/site-packages (from matplotlib>=3.5->fsleyes) (1.0.5)\n",
      "Requirement already satisfied: six in /Users/helia/anaconda3/lib/python3.10/site-packages (from wxpython>=4->fsleyes) (1.16.0)\n",
      "Installing collected packages: pyopengl, wxpython, fsleyes-widgets, fsleyes-props, fsleyes\n",
      "Successfully installed fsleyes-1.10.1 fsleyes-props-1.11.0 fsleyes-widgets-0.14.3 pyopengl-3.1.7 wxpython-4.2.1\n",
      "Note: you may need to restart the kernel to use updated packages.\n"
     ]
    }
   ],
   "source": [
    "pip install fsleyes\n"
   ]
  },
  {
   "cell_type": "code",
   "execution_count": 5,
   "id": "462e2de3-f5c3-4305-a93a-f3dd1c008a87",
   "metadata": {},
   "outputs": [],
   "source": [
    "!python -m venv fsleyes-virtualenv\n",
    "!source fsleyes-virtualenv/bin/activate\n",
    "\n",
    "# The exclamation mark (!) is used in Jupyter Notebooks to indicate that the following command should be interpreted as a shell command."
   ]
  },
  {
   "cell_type": "markdown",
   "id": "dbd223ae-b59b-4e45-a291-859bad0d9a72",
   "metadata": {},
   "source": [
    "#### Creating the MLC dataframe\n",
    "\n",
    "[Back Home](#MLC)"
   ]
  },
  {
   "cell_type": "code",
   "execution_count": 67,
   "id": "e54632eb-9cb0-40b9-ae2b-891c3bdb07e5",
   "metadata": {},
   "outputs": [],
   "source": [
    "import pandas as pd\n",
    "import numpy as np"
   ]
  },
  {
   "cell_type": "code",
   "execution_count": 85,
   "id": "5cd6ac01-300c-48fa-b514-c30a90460a09",
   "metadata": {},
   "outputs": [],
   "source": [
    "df = pd.DataFrame(index = range(1,13), columns = [\"Folder_name\",\"T1_file_name\",\"T2_file_name\",\"FLAIR\", \"ADC\"])"
   ]
  },
  {
   "cell_type": "code",
   "execution_count": 86,
   "id": "74654763-effe-4be7-8aab-447da4d8e0ca",
   "metadata": {},
   "outputs": [
    {
     "data": {
      "text/html": [
       "<div>\n",
       "<style scoped>\n",
       "    .dataframe tbody tr th:only-of-type {\n",
       "        vertical-align: middle;\n",
       "    }\n",
       "\n",
       "    .dataframe tbody tr th {\n",
       "        vertical-align: top;\n",
       "    }\n",
       "\n",
       "    .dataframe thead th {\n",
       "        text-align: right;\n",
       "    }\n",
       "</style>\n",
       "<table border=\"1\" class=\"dataframe\">\n",
       "  <thead>\n",
       "    <tr style=\"text-align: right;\">\n",
       "      <th></th>\n",
       "      <th>Folder_name</th>\n",
       "      <th>T1_file_name</th>\n",
       "      <th>T2_file_name</th>\n",
       "      <th>FLAIR</th>\n",
       "      <th>ADC</th>\n",
       "    </tr>\n",
       "  </thead>\n",
       "  <tbody>\n",
       "    <tr>\n",
       "      <th>1</th>\n",
       "      <td>NaN</td>\n",
       "      <td>NaN</td>\n",
       "      <td>NaN</td>\n",
       "      <td>NaN</td>\n",
       "      <td>NaN</td>\n",
       "    </tr>\n",
       "    <tr>\n",
       "      <th>2</th>\n",
       "      <td>NaN</td>\n",
       "      <td>NaN</td>\n",
       "      <td>NaN</td>\n",
       "      <td>NaN</td>\n",
       "      <td>NaN</td>\n",
       "    </tr>\n",
       "    <tr>\n",
       "      <th>3</th>\n",
       "      <td>NaN</td>\n",
       "      <td>NaN</td>\n",
       "      <td>NaN</td>\n",
       "      <td>NaN</td>\n",
       "      <td>NaN</td>\n",
       "    </tr>\n",
       "    <tr>\n",
       "      <th>4</th>\n",
       "      <td>NaN</td>\n",
       "      <td>NaN</td>\n",
       "      <td>NaN</td>\n",
       "      <td>NaN</td>\n",
       "      <td>NaN</td>\n",
       "    </tr>\n",
       "    <tr>\n",
       "      <th>5</th>\n",
       "      <td>NaN</td>\n",
       "      <td>NaN</td>\n",
       "      <td>NaN</td>\n",
       "      <td>NaN</td>\n",
       "      <td>NaN</td>\n",
       "    </tr>\n",
       "    <tr>\n",
       "      <th>6</th>\n",
       "      <td>NaN</td>\n",
       "      <td>NaN</td>\n",
       "      <td>NaN</td>\n",
       "      <td>NaN</td>\n",
       "      <td>NaN</td>\n",
       "    </tr>\n",
       "    <tr>\n",
       "      <th>7</th>\n",
       "      <td>NaN</td>\n",
       "      <td>NaN</td>\n",
       "      <td>NaN</td>\n",
       "      <td>NaN</td>\n",
       "      <td>NaN</td>\n",
       "    </tr>\n",
       "    <tr>\n",
       "      <th>8</th>\n",
       "      <td>NaN</td>\n",
       "      <td>NaN</td>\n",
       "      <td>NaN</td>\n",
       "      <td>NaN</td>\n",
       "      <td>NaN</td>\n",
       "    </tr>\n",
       "    <tr>\n",
       "      <th>9</th>\n",
       "      <td>NaN</td>\n",
       "      <td>NaN</td>\n",
       "      <td>NaN</td>\n",
       "      <td>NaN</td>\n",
       "      <td>NaN</td>\n",
       "    </tr>\n",
       "    <tr>\n",
       "      <th>10</th>\n",
       "      <td>NaN</td>\n",
       "      <td>NaN</td>\n",
       "      <td>NaN</td>\n",
       "      <td>NaN</td>\n",
       "      <td>NaN</td>\n",
       "    </tr>\n",
       "    <tr>\n",
       "      <th>11</th>\n",
       "      <td>NaN</td>\n",
       "      <td>NaN</td>\n",
       "      <td>NaN</td>\n",
       "      <td>NaN</td>\n",
       "      <td>NaN</td>\n",
       "    </tr>\n",
       "    <tr>\n",
       "      <th>12</th>\n",
       "      <td>NaN</td>\n",
       "      <td>NaN</td>\n",
       "      <td>NaN</td>\n",
       "      <td>NaN</td>\n",
       "      <td>NaN</td>\n",
       "    </tr>\n",
       "  </tbody>\n",
       "</table>\n",
       "</div>"
      ],
      "text/plain": [
       "   Folder_name T1_file_name T2_file_name FLAIR  ADC\n",
       "1          NaN          NaN          NaN   NaN  NaN\n",
       "2          NaN          NaN          NaN   NaN  NaN\n",
       "3          NaN          NaN          NaN   NaN  NaN\n",
       "4          NaN          NaN          NaN   NaN  NaN\n",
       "5          NaN          NaN          NaN   NaN  NaN\n",
       "6          NaN          NaN          NaN   NaN  NaN\n",
       "7          NaN          NaN          NaN   NaN  NaN\n",
       "8          NaN          NaN          NaN   NaN  NaN\n",
       "9          NaN          NaN          NaN   NaN  NaN\n",
       "10         NaN          NaN          NaN   NaN  NaN\n",
       "11         NaN          NaN          NaN   NaN  NaN\n",
       "12         NaN          NaN          NaN   NaN  NaN"
      ]
     },
     "execution_count": 86,
     "metadata": {},
     "output_type": "execute_result"
    }
   ],
   "source": [
    "df"
   ]
  },
  {
   "cell_type": "code",
   "execution_count": 87,
   "id": "e1dfd37f-65b8-4ee7-b30b-c2eaf1d7e7c8",
   "metadata": {},
   "outputs": [],
   "source": [
    "df[\"Folder_name\"] = [f\"LD_01_MLC_S00{i}\" for i in range (17,29)]\n"
   ]
  },
  {
   "cell_type": "code",
   "execution_count": 88,
   "id": "d2e1b554-5ef8-4690-aab3-dff04d000efd",
   "metadata": {},
   "outputs": [
    {
     "data": {
      "text/html": [
       "<div>\n",
       "<style scoped>\n",
       "    .dataframe tbody tr th:only-of-type {\n",
       "        vertical-align: middle;\n",
       "    }\n",
       "\n",
       "    .dataframe tbody tr th {\n",
       "        vertical-align: top;\n",
       "    }\n",
       "\n",
       "    .dataframe thead th {\n",
       "        text-align: right;\n",
       "    }\n",
       "</style>\n",
       "<table border=\"1\" class=\"dataframe\">\n",
       "  <thead>\n",
       "    <tr style=\"text-align: right;\">\n",
       "      <th></th>\n",
       "      <th>Folder_name</th>\n",
       "      <th>T1_file_name</th>\n",
       "      <th>T2_file_name</th>\n",
       "      <th>FLAIR</th>\n",
       "      <th>ADC</th>\n",
       "    </tr>\n",
       "  </thead>\n",
       "  <tbody>\n",
       "    <tr>\n",
       "      <th>1</th>\n",
       "      <td>LD_01_MLC_S0017</td>\n",
       "      <td>NaN</td>\n",
       "      <td>NaN</td>\n",
       "      <td>NaN</td>\n",
       "      <td>NaN</td>\n",
       "    </tr>\n",
       "    <tr>\n",
       "      <th>2</th>\n",
       "      <td>LD_01_MLC_S0018</td>\n",
       "      <td>NaN</td>\n",
       "      <td>NaN</td>\n",
       "      <td>NaN</td>\n",
       "      <td>NaN</td>\n",
       "    </tr>\n",
       "    <tr>\n",
       "      <th>3</th>\n",
       "      <td>LD_01_MLC_S0019</td>\n",
       "      <td>NaN</td>\n",
       "      <td>NaN</td>\n",
       "      <td>NaN</td>\n",
       "      <td>NaN</td>\n",
       "    </tr>\n",
       "    <tr>\n",
       "      <th>4</th>\n",
       "      <td>LD_01_MLC_S0020</td>\n",
       "      <td>NaN</td>\n",
       "      <td>NaN</td>\n",
       "      <td>NaN</td>\n",
       "      <td>NaN</td>\n",
       "    </tr>\n",
       "    <tr>\n",
       "      <th>5</th>\n",
       "      <td>LD_01_MLC_S0021</td>\n",
       "      <td>NaN</td>\n",
       "      <td>NaN</td>\n",
       "      <td>NaN</td>\n",
       "      <td>NaN</td>\n",
       "    </tr>\n",
       "    <tr>\n",
       "      <th>6</th>\n",
       "      <td>LD_01_MLC_S0022</td>\n",
       "      <td>NaN</td>\n",
       "      <td>NaN</td>\n",
       "      <td>NaN</td>\n",
       "      <td>NaN</td>\n",
       "    </tr>\n",
       "    <tr>\n",
       "      <th>7</th>\n",
       "      <td>LD_01_MLC_S0023</td>\n",
       "      <td>NaN</td>\n",
       "      <td>NaN</td>\n",
       "      <td>NaN</td>\n",
       "      <td>NaN</td>\n",
       "    </tr>\n",
       "    <tr>\n",
       "      <th>8</th>\n",
       "      <td>LD_01_MLC_S0024</td>\n",
       "      <td>NaN</td>\n",
       "      <td>NaN</td>\n",
       "      <td>NaN</td>\n",
       "      <td>NaN</td>\n",
       "    </tr>\n",
       "    <tr>\n",
       "      <th>9</th>\n",
       "      <td>LD_01_MLC_S0025</td>\n",
       "      <td>NaN</td>\n",
       "      <td>NaN</td>\n",
       "      <td>NaN</td>\n",
       "      <td>NaN</td>\n",
       "    </tr>\n",
       "    <tr>\n",
       "      <th>10</th>\n",
       "      <td>LD_01_MLC_S0026</td>\n",
       "      <td>NaN</td>\n",
       "      <td>NaN</td>\n",
       "      <td>NaN</td>\n",
       "      <td>NaN</td>\n",
       "    </tr>\n",
       "    <tr>\n",
       "      <th>11</th>\n",
       "      <td>LD_01_MLC_S0027</td>\n",
       "      <td>NaN</td>\n",
       "      <td>NaN</td>\n",
       "      <td>NaN</td>\n",
       "      <td>NaN</td>\n",
       "    </tr>\n",
       "    <tr>\n",
       "      <th>12</th>\n",
       "      <td>LD_01_MLC_S0028</td>\n",
       "      <td>NaN</td>\n",
       "      <td>NaN</td>\n",
       "      <td>NaN</td>\n",
       "      <td>NaN</td>\n",
       "    </tr>\n",
       "  </tbody>\n",
       "</table>\n",
       "</div>"
      ],
      "text/plain": [
       "        Folder_name T1_file_name T2_file_name FLAIR  ADC\n",
       "1   LD_01_MLC_S0017          NaN          NaN   NaN  NaN\n",
       "2   LD_01_MLC_S0018          NaN          NaN   NaN  NaN\n",
       "3   LD_01_MLC_S0019          NaN          NaN   NaN  NaN\n",
       "4   LD_01_MLC_S0020          NaN          NaN   NaN  NaN\n",
       "5   LD_01_MLC_S0021          NaN          NaN   NaN  NaN\n",
       "6   LD_01_MLC_S0022          NaN          NaN   NaN  NaN\n",
       "7   LD_01_MLC_S0023          NaN          NaN   NaN  NaN\n",
       "8   LD_01_MLC_S0024          NaN          NaN   NaN  NaN\n",
       "9   LD_01_MLC_S0025          NaN          NaN   NaN  NaN\n",
       "10  LD_01_MLC_S0026          NaN          NaN   NaN  NaN\n",
       "11  LD_01_MLC_S0027          NaN          NaN   NaN  NaN\n",
       "12  LD_01_MLC_S0028          NaN          NaN   NaN  NaN"
      ]
     },
     "execution_count": 88,
     "metadata": {},
     "output_type": "execute_result"
    }
   ],
   "source": [
    "df"
   ]
  },
  {
   "cell_type": "code",
   "execution_count": 89,
   "id": "8011552d-9458-433c-b8c0-3fbf3ab1192d",
   "metadata": {},
   "outputs": [],
   "source": [
    "df.loc[1,\"ADC\"] = \"_ep2d_diff_3scan_trace_p2_20190302122709_4.nii\"\n",
    "df.loc[1,\"T1_file_name\"] = \"_t1_se_cor_20190302122709_8.nii\"\n",
    "df.loc[1,\"FLAIR\"] = \"_t2_tirm_tra_dark-fluid_20190302122709_5.nii\"  #Note that this is a TRIM sequence ===> suppress signal from fat?\n",
    "df.loc[1,\"T2_file_name\"] = \"_t2_tse_sag_384_20190302122709_6.nii\"  #There was no axial T2W!"
   ]
  },
  {
   "cell_type": "code",
   "execution_count": 90,
   "id": "fd5ad69d-010a-4724-a7cb-84ab83b7be43",
   "metadata": {},
   "outputs": [],
   "source": [
    "df.loc[2,\"FLAIR\"]=\"_t2_FLAIR_20160828164401_2.nii\"\n",
    "df.loc[2,\"ADC\"]=\"_ep2d_diff_3scan_trace_p2_20160828164401_6.nii\"\n",
    "df.loc[2,\"T1_file_name\"]=\"_T1_se_AXI_20160828164401_4.nii\"\n",
    "df.loc[2,\"T2_file_name\"]=\"_T2-TSE-TRA-DE_20160828164401_3.nii\""
   ]
  },
  {
   "cell_type": "code",
   "execution_count": 91,
   "id": "2f66b4f1-939f-42e0-8918-cdc47b75a563",
   "metadata": {},
   "outputs": [],
   "source": [
    "df.loc[3,\"T2_file_name\"]=\"_BRAIN+C94_3_20160906172303_3.nii\"\n",
    "df.loc[3,\"FLAIR\"]=\"_BRAIN+C94_4_20160906172303_4.nii\"\n",
    "df.loc[3,\"T1_file_name\"]=\"_BRAIN+C94_6_20160906172303_5.nii\"\n",
    "# df.loc[3,\"ADC\"]=\"\"  ADC was NA"
   ]
  },
  {
   "cell_type": "code",
   "execution_count": 92,
   "id": "b354d1af-0c5d-4293-935e-3b618935eaf3",
   "metadata": {},
   "outputs": [],
   "source": [
    "df.loc[4,\"FLAIR\"]=\"_t2_tirm_tra_dark-fluid_20161114225616_4.nii\"\n",
    "df.loc[4,\"ADC\"]=\"_ep2d_diff_3scan_20161114225616_10.nii\"\n",
    "df.loc[4,\"T1_file_name\"]=\"_t1_se_tra_20161114225616_3.nii\"\n",
    "df.loc[4,\"T2_file_name\"]=\"_pd+t2_tse_tra_20161114225616_2_e1.nii\""
   ]
  },
  {
   "cell_type": "code",
   "execution_count": 93,
   "id": "550560d5-c7b0-4cf5-bb7b-cfa7cf7a715f",
   "metadata": {},
   "outputs": [],
   "source": [
    "df.loc[5,\"FLAIR\"]=\"_t2_tirm_tra_dark-fluid_20161030171548_2.nii\"\n",
    "df.loc[5,\"ADC\"]=\"_ep2d_diff_3scan_trace_p2_20161030171548_9.nii\"\n",
    "df.loc[5,\"T1_file_name\"]=\"_t1_se_tra_20161030171548_4.nii\"\n",
    "df.loc[5,\"T2_file_name\"]=\"_t2_tse_tra_20161030171548_3.nii\""
   ]
  },
  {
   "cell_type": "code",
   "execution_count": 94,
   "id": "ce25bc67-8cee-4be2-aaf2-28f10e32ae04",
   "metadata": {},
   "outputs": [],
   "source": [
    "df.loc[6,\"FLAIR\"]=\"_eT2W_FLAIR_SENSE_20170124195655_502.nii\"\n",
    "df.loc[6,\"ADC\"]=\"_dDWI_SENSE_20170124195655_802.nii\" #Not sure!\n",
    "df.loc[6,\"T1_file_name\"]=\"_eT1W_SE_CLEAR_20170124195655_402.nii\"\n",
    "df.loc[6,\"T2_file_name\"]=\"_eT2W_TSE_SENSE_20170124195655_302.nii\""
   ]
  },
  {
   "cell_type": "code",
   "execution_count": 95,
   "id": "84439750-d2ba-4cad-80dd-0385e9249f9d",
   "metadata": {},
   "outputs": [],
   "source": [
    "df.loc[7,\"FLAIR\"]=\"_eT2W_FLAIR_SENSE_20170718215149_502.nii\"\n",
    "# df.loc[7,\"ADC\"]=\"\"  ADC ==> NA\n",
    "df.loc[7,\"T1_file_name\"]=\"_eT1W_SE_CLEAR_20170718215149_402.nii\"\n",
    "df.loc[7,\"T2_file_name\"]=\"_T2W_TSE_SENSE_20170718215149_301.nii\""
   ]
  },
  {
   "cell_type": "code",
   "execution_count": 96,
   "id": "a29f3af8-c8c4-4891-b933-be605505e2e0",
   "metadata": {},
   "outputs": [],
   "source": [
    "df.loc[8,\"FLAIR\"]=\"_3DFLAIRSAG_20170914024519_5.nii\"\n",
    "# df.loc[8,\"ADC\"]=\"\"  ADC ==> NA\n",
    "df.loc[8,\"T1_file_name\"]=\"_T13DTRA_20170914024519_4.nii\"\n",
    "df.loc[8,\"T2_file_name\"]=\"_t2_blade_tra_20170914024519_2.nii\""
   ]
  },
  {
   "cell_type": "code",
   "execution_count": 98,
   "id": "1c0b3354-983e-477c-8cde-1e7f077b7e04",
   "metadata": {},
   "outputs": [],
   "source": [
    "df.loc[9,\"FLAIR\"]=\"_eT2W_FLAIR_SENSE_20180417212648_502.nii\"\n",
    "df.loc[9,\"ADC\"]=\"_DWI_SENSE_20180417212648_801_ADC.nii\"\n",
    "df.loc[9,\"T1_file_name\"]=\"_eT1W_SE_CLEAR_20180417212648_402.nii\"\n",
    "df.loc[9,\"T2_file_name\"]=\"_eT2W_TSE_SENSE_20180417212648_302.nii\""
   ]
  },
  {
   "cell_type": "code",
   "execution_count": 102,
   "id": "5714cbe9-e034-44fe-ad18-4d660d646cd3",
   "metadata": {},
   "outputs": [],
   "source": [
    "# This subject did not have DICOM files\n",
    "\n",
    "# df.loc[10,\"FLAIR\"]=\"\"\n",
    "# df.loc[10,\"ADC\"]=\"\"\n",
    "# df.loc[10,\"T1_file_name\"]=\"\"\n",
    "# df.loc[10,\"T2_file_name\"]=\"\""
   ]
  },
  {
   "cell_type": "code",
   "execution_count": 103,
   "id": "f6502330-0e5c-4dbd-ab15-76251bbf1b37",
   "metadata": {},
   "outputs": [],
   "source": [
    "df.loc[11,\"FLAIR\"]=\"_t2_tirm_tra_dark-fluid_20210422154315_4.nii\"\n",
    "# df.loc[11,\"ADC\"]=\"\"  ADC ==> NA\n",
    "df.loc[11,\"T1_file_name\"]=\"_t1_se_AX_20210422154315_3.nii\"\n",
    "df.loc[11,\"T2_file_name\"]=\"_t2_tse_tra_512_20210422154315_2.nii\""
   ]
  },
  {
   "cell_type": "code",
   "execution_count": 105,
   "id": "9bd1c34c-d671-478f-a12f-a65908e0a484",
   "metadata": {},
   "outputs": [],
   "source": [
    "df.loc[12,\"FLAIR\"]=\"_3D_Brain_VIEW_FLAIR_Tra_20210607074946_402000.nii\"\n",
    "df.loc[12,\"ADC\"]=\"_dt_ADC_20210607074946_503001.nii\"\n",
    "df.loc[12,\"T1_file_name\"]=\"_TRA_T1W_3D_TFE_20210607074946_204000.nii\"\n",
    "df.loc[12,\"T2_file_name\"]=\"_3D_Brain_VIEW_T2_20210607074946_302000.nii\""
   ]
  },
  {
   "cell_type": "code",
   "execution_count": 107,
   "id": "9b1c3b68-2dae-40b3-aaf5-edeaba61b6d4",
   "metadata": {},
   "outputs": [],
   "source": [
    "df = df.to_csv(\"LKD_MLC.csv\")"
   ]
  },
  {
   "cell_type": "code",
   "execution_count": 111,
   "id": "fe5f2662-f2c1-4949-a4c9-db2cdfcad08a",
   "metadata": {},
   "outputs": [],
   "source": [
    "df = pd.read_csv(\"LKD_MLC.csv\", index_col=0)"
   ]
  },
  {
   "cell_type": "code",
   "execution_count": 112,
   "id": "e844a945-984c-493e-a2ff-ba59908978f0",
   "metadata": {},
   "outputs": [
    {
     "data": {
      "text/html": [
       "<div>\n",
       "<style scoped>\n",
       "    .dataframe tbody tr th:only-of-type {\n",
       "        vertical-align: middle;\n",
       "    }\n",
       "\n",
       "    .dataframe tbody tr th {\n",
       "        vertical-align: top;\n",
       "    }\n",
       "\n",
       "    .dataframe thead th {\n",
       "        text-align: right;\n",
       "    }\n",
       "</style>\n",
       "<table border=\"1\" class=\"dataframe\">\n",
       "  <thead>\n",
       "    <tr style=\"text-align: right;\">\n",
       "      <th></th>\n",
       "      <th>Folder_name</th>\n",
       "      <th>T1_file_name</th>\n",
       "      <th>T2_file_name</th>\n",
       "      <th>FLAIR</th>\n",
       "      <th>ADC</th>\n",
       "    </tr>\n",
       "  </thead>\n",
       "  <tbody>\n",
       "    <tr>\n",
       "      <th>1</th>\n",
       "      <td>LD_01_MLC_S0017</td>\n",
       "      <td>_t1_se_cor_20190302122709_8.nii</td>\n",
       "      <td>_t2_tse_sag_384_20190302122709_6.nii</td>\n",
       "      <td>_t2_tirm_tra_dark-fluid_20190302122709_5.nii</td>\n",
       "      <td>_ep2d_diff_3scan_trace_p2_20190302122709_4.nii</td>\n",
       "    </tr>\n",
       "    <tr>\n",
       "      <th>2</th>\n",
       "      <td>LD_01_MLC_S0018</td>\n",
       "      <td>_T1_se_AXI_20160828164401_4.nii</td>\n",
       "      <td>_T2-TSE-TRA-DE_20160828164401_3.nii</td>\n",
       "      <td>_t2_FLAIR_20160828164401_2.nii</td>\n",
       "      <td>_ep2d_diff_3scan_trace_p2_20160828164401_6.nii</td>\n",
       "    </tr>\n",
       "    <tr>\n",
       "      <th>3</th>\n",
       "      <td>LD_01_MLC_S0019</td>\n",
       "      <td>_BRAIN+C94_6_20160906172303_5.nii</td>\n",
       "      <td>_BRAIN+C94_3_20160906172303_3.nii</td>\n",
       "      <td>_BRAIN+C94_4_20160906172303_4.nii</td>\n",
       "      <td>NaN</td>\n",
       "    </tr>\n",
       "    <tr>\n",
       "      <th>4</th>\n",
       "      <td>LD_01_MLC_S0020</td>\n",
       "      <td>_t1_se_tra_20161114225616_3.nii</td>\n",
       "      <td>_pd+t2_tse_tra_20161114225616_2_e1.nii</td>\n",
       "      <td>_t2_tirm_tra_dark-fluid_20161114225616_4.nii</td>\n",
       "      <td>_ep2d_diff_3scan_20161114225616_10.nii</td>\n",
       "    </tr>\n",
       "    <tr>\n",
       "      <th>5</th>\n",
       "      <td>LD_01_MLC_S0021</td>\n",
       "      <td>_t1_se_tra_20161030171548_4.nii</td>\n",
       "      <td>_t2_tse_tra_20161030171548_3.nii</td>\n",
       "      <td>_t2_tirm_tra_dark-fluid_20161030171548_2.nii</td>\n",
       "      <td>_ep2d_diff_3scan_trace_p2_20161030171548_9.nii</td>\n",
       "    </tr>\n",
       "    <tr>\n",
       "      <th>6</th>\n",
       "      <td>LD_01_MLC_S0022</td>\n",
       "      <td>_eT1W_SE_CLEAR_20170124195655_402.nii</td>\n",
       "      <td>_eT2W_TSE_SENSE_20170124195655_302.nii</td>\n",
       "      <td>_eT2W_FLAIR_SENSE_20170124195655_502.nii</td>\n",
       "      <td>_dDWI_SENSE_20170124195655_802.nii</td>\n",
       "    </tr>\n",
       "    <tr>\n",
       "      <th>7</th>\n",
       "      <td>LD_01_MLC_S0023</td>\n",
       "      <td>_eT1W_SE_CLEAR_20170718215149_402.nii</td>\n",
       "      <td>_T2W_TSE_SENSE_20170718215149_301.nii</td>\n",
       "      <td>_eT2W_FLAIR_SENSE_20170718215149_502.nii</td>\n",
       "      <td>NaN</td>\n",
       "    </tr>\n",
       "    <tr>\n",
       "      <th>8</th>\n",
       "      <td>LD_01_MLC_S0024</td>\n",
       "      <td>_T13DTRA_20170914024519_4.nii</td>\n",
       "      <td>_t2_blade_tra_20170914024519_2.nii</td>\n",
       "      <td>_3DFLAIRSAG_20170914024519_5.nii</td>\n",
       "      <td>NaN</td>\n",
       "    </tr>\n",
       "    <tr>\n",
       "      <th>9</th>\n",
       "      <td>LD_01_MLC_S0025</td>\n",
       "      <td>_eT1W_SE_CLEAR_20180417212648_402.nii</td>\n",
       "      <td>_eT2W_TSE_SENSE_20180417212648_302.nii</td>\n",
       "      <td>_eT2W_FLAIR_SENSE_20180417212648_502.nii</td>\n",
       "      <td>_DWI_SENSE_20180417212648_801_ADC.nii</td>\n",
       "    </tr>\n",
       "    <tr>\n",
       "      <th>10</th>\n",
       "      <td>LD_01_MLC_S0026</td>\n",
       "      <td>NaN</td>\n",
       "      <td>NaN</td>\n",
       "      <td>NaN</td>\n",
       "      <td>NaN</td>\n",
       "    </tr>\n",
       "    <tr>\n",
       "      <th>11</th>\n",
       "      <td>LD_01_MLC_S0027</td>\n",
       "      <td>_t1_se_AX_20210422154315_3.nii</td>\n",
       "      <td>_t2_tse_tra_512_20210422154315_2.nii</td>\n",
       "      <td>_t2_tirm_tra_dark-fluid_20210422154315_4.nii</td>\n",
       "      <td>NaN</td>\n",
       "    </tr>\n",
       "    <tr>\n",
       "      <th>12</th>\n",
       "      <td>LD_01_MLC_S0028</td>\n",
       "      <td>_TRA_T1W_3D_TFE_20210607074946_204000.nii</td>\n",
       "      <td>_3D_Brain_VIEW_T2_20210607074946_302000.nii</td>\n",
       "      <td>_3D_Brain_VIEW_FLAIR_Tra_20210607074946_402000...</td>\n",
       "      <td>_dt_ADC_20210607074946_503001.nii</td>\n",
       "    </tr>\n",
       "  </tbody>\n",
       "</table>\n",
       "</div>"
      ],
      "text/plain": [
       "        Folder_name                               T1_file_name  \\\n",
       "1   LD_01_MLC_S0017            _t1_se_cor_20190302122709_8.nii   \n",
       "2   LD_01_MLC_S0018            _T1_se_AXI_20160828164401_4.nii   \n",
       "3   LD_01_MLC_S0019          _BRAIN+C94_6_20160906172303_5.nii   \n",
       "4   LD_01_MLC_S0020            _t1_se_tra_20161114225616_3.nii   \n",
       "5   LD_01_MLC_S0021            _t1_se_tra_20161030171548_4.nii   \n",
       "6   LD_01_MLC_S0022      _eT1W_SE_CLEAR_20170124195655_402.nii   \n",
       "7   LD_01_MLC_S0023      _eT1W_SE_CLEAR_20170718215149_402.nii   \n",
       "8   LD_01_MLC_S0024              _T13DTRA_20170914024519_4.nii   \n",
       "9   LD_01_MLC_S0025      _eT1W_SE_CLEAR_20180417212648_402.nii   \n",
       "10  LD_01_MLC_S0026                                        NaN   \n",
       "11  LD_01_MLC_S0027             _t1_se_AX_20210422154315_3.nii   \n",
       "12  LD_01_MLC_S0028  _TRA_T1W_3D_TFE_20210607074946_204000.nii   \n",
       "\n",
       "                                   T2_file_name  \\\n",
       "1          _t2_tse_sag_384_20190302122709_6.nii   \n",
       "2           _T2-TSE-TRA-DE_20160828164401_3.nii   \n",
       "3             _BRAIN+C94_3_20160906172303_3.nii   \n",
       "4        _pd+t2_tse_tra_20161114225616_2_e1.nii   \n",
       "5              _t2_tse_tra_20161030171548_3.nii   \n",
       "6        _eT2W_TSE_SENSE_20170124195655_302.nii   \n",
       "7         _T2W_TSE_SENSE_20170718215149_301.nii   \n",
       "8            _t2_blade_tra_20170914024519_2.nii   \n",
       "9        _eT2W_TSE_SENSE_20180417212648_302.nii   \n",
       "10                                          NaN   \n",
       "11         _t2_tse_tra_512_20210422154315_2.nii   \n",
       "12  _3D_Brain_VIEW_T2_20210607074946_302000.nii   \n",
       "\n",
       "                                                FLAIR  \\\n",
       "1        _t2_tirm_tra_dark-fluid_20190302122709_5.nii   \n",
       "2                      _t2_FLAIR_20160828164401_2.nii   \n",
       "3                   _BRAIN+C94_4_20160906172303_4.nii   \n",
       "4        _t2_tirm_tra_dark-fluid_20161114225616_4.nii   \n",
       "5        _t2_tirm_tra_dark-fluid_20161030171548_2.nii   \n",
       "6            _eT2W_FLAIR_SENSE_20170124195655_502.nii   \n",
       "7            _eT2W_FLAIR_SENSE_20170718215149_502.nii   \n",
       "8                    _3DFLAIRSAG_20170914024519_5.nii   \n",
       "9            _eT2W_FLAIR_SENSE_20180417212648_502.nii   \n",
       "10                                                NaN   \n",
       "11       _t2_tirm_tra_dark-fluid_20210422154315_4.nii   \n",
       "12  _3D_Brain_VIEW_FLAIR_Tra_20210607074946_402000...   \n",
       "\n",
       "                                               ADC  \n",
       "1   _ep2d_diff_3scan_trace_p2_20190302122709_4.nii  \n",
       "2   _ep2d_diff_3scan_trace_p2_20160828164401_6.nii  \n",
       "3                                              NaN  \n",
       "4           _ep2d_diff_3scan_20161114225616_10.nii  \n",
       "5   _ep2d_diff_3scan_trace_p2_20161030171548_9.nii  \n",
       "6               _dDWI_SENSE_20170124195655_802.nii  \n",
       "7                                              NaN  \n",
       "8                                              NaN  \n",
       "9            _DWI_SENSE_20180417212648_801_ADC.nii  \n",
       "10                                             NaN  \n",
       "11                                             NaN  \n",
       "12               _dt_ADC_20210607074946_503001.nii  "
      ]
     },
     "execution_count": 112,
     "metadata": {},
     "output_type": "execute_result"
    }
   ],
   "source": [
    "df"
   ]
  },
  {
   "cell_type": "code",
   "execution_count": 19,
   "id": "90782e04-2efd-4838-be1a-69e19368bc19",
   "metadata": {},
   "outputs": [
    {
     "ename": "SyntaxError",
     "evalue": "invalid syntax (1217707320.py, line 1)",
     "output_type": "error",
     "traceback": [
      "\u001b[0;36m  Cell \u001b[0;32mIn[19], line 1\u001b[0;36m\u001b[0m\n\u001b[0;31m    fsleyes df.loc[1,\"T2_file_name\"]\u001b[0m\n\u001b[0m            ^\u001b[0m\n\u001b[0;31mSyntaxError\u001b[0m\u001b[0;31m:\u001b[0m invalid syntax\n"
     ]
    }
   ],
   "source": [
    "fsleyes df.loc[1,\"T2_file_name\"]"
   ]
  },
  {
   "cell_type": "code",
   "execution_count": 23,
   "id": "20f32767-6498-4edb-83d5-540f5b382573",
   "metadata": {},
   "outputs": [
    {
     "name": "stdout",
     "output_type": "stream",
     "text": [
      "zsh:1: no matches found: df.loc[1,T2_file_name]\n"
     ]
    }
   ],
   "source": [
    "!fsleyes df.loc[1,\"T2_file_name\"]"
   ]
  },
  {
   "cell_type": "code",
   "execution_count": 21,
   "id": "02a7443a-0455-454f-a7f5-cc17187967d0",
   "metadata": {},
   "outputs": [
    {
     "data": {
      "text/plain": [
       "'_t2_tse_sag_384_20190302122709_6.nii'"
      ]
     },
     "execution_count": 21,
     "metadata": {},
     "output_type": "execute_result"
    }
   ],
   "source": [
    "df.loc[1,\"T2_file_name\"]"
   ]
  },
  {
   "cell_type": "code",
   "execution_count": 24,
   "id": "0f64af30-ce65-48cc-bd3b-be686c4bb3fc",
   "metadata": {},
   "outputs": [
    {
     "name": "stdout",
     "output_type": "stream",
     "text": [
      "unrecognized arguments: _t2_tse_sag_384_20190302122709_6.nii\n",
      "FSLeyes version 1.3.0\n",
      "Usage: fsleyes [options] file [displayOpts] file [displayOpts] ...\n"
     ]
    }
   ],
   "source": [
    "!fsleyes \"{df.loc[1, 'T2_file_name']}\"\n"
   ]
  },
  {
   "cell_type": "code",
   "execution_count": 25,
   "id": "3dbf9da9-50f7-4074-8bea-ba553500caa9",
   "metadata": {},
   "outputs": [
    {
     "name": "stdout",
     "output_type": "stream",
     "text": [
      "unrecognized arguments: _t2_tse_sag_384_20190302122709_6.nii\n",
      "FSLeyes version 1.3.0\n",
      "Usage: fsleyes [options] file [displayOpts] file [displayOpts] ...\n"
     ]
    }
   ],
   "source": [
    "!fsleyes {df.loc[1, 'T2_file_name']}\n"
   ]
  },
  {
   "cell_type": "code",
   "execution_count": 116,
   "id": "2e919057-c625-4408-8e11-85e3be1fa024",
   "metadata": {},
   "outputs": [],
   "source": [
    "import subprocess"
   ]
  },
  {
   "cell_type": "code",
   "execution_count": 122,
   "id": "3c5ee271-d0d6-4ac9-9904-66ecad23894a",
   "metadata": {},
   "outputs": [
    {
     "name": "stdout",
     "output_type": "stream",
     "text": [
      "/usr/local/fsl/bin:/usr/local/fsl/bin:/Applications/freesurfer/7.4.1/bin:/Applications/freesurfer/7.4.1/fsfast/bin:/usr/local/fsl/bin:/Applications/freesurfer/7.4.1/mni/bin:/Users/helia/anaconda3/bin:/Users/helia/anaconda3/condabin:/opt/homebrew/bin:/opt/homebrew/sbin:/Library/Frameworks/Python.framework/Versions/3.11/bin:/usr/local/fsl/bin:/Library/Frameworks/Python.framework/Versions/3.10/bin:/usr/local/bin:/usr/bin:/bin:/usr/sbin:/sbin:/usr/local/share/dotnet:/opt/X11/bin:~/.dotnet/tools\n"
     ]
    },
    {
     "data": {
      "text/plain": [
       "CompletedProcess(args='echo $PATH', returncode=0)"
      ]
     },
     "execution_count": 122,
     "metadata": {},
     "output_type": "execute_result"
    }
   ],
   "source": [
    "import subprocess\n",
    "subprocess.run('echo $PATH', shell=True)\n"
   ]
  },
  {
   "cell_type": "code",
   "execution_count": 118,
   "id": "724dfd08-ee18-456c-9012-cbf76ee654c4",
   "metadata": {},
   "outputs": [
    {
     "data": {
      "text/plain": [
       "CompletedProcess(args='source /usr/local/fsl/etc/fslconf/fsl.sh', returncode=0)"
      ]
     },
     "execution_count": 118,
     "metadata": {},
     "output_type": "execute_result"
    }
   ],
   "source": [
    "# Source FSL configuration script\n",
    "subprocess.run('source /usr/local/fsl/etc/fslconf/fsl.sh', shell=True)"
   ]
  },
  {
   "cell_type": "code",
   "execution_count": 127,
   "id": "7f46996b-d318-4585-805a-130091cdb5fb",
   "metadata": {},
   "outputs": [
    {
     "data": {
      "text/plain": [
       "'/Users/helia/Leukodystrophy'"
      ]
     },
     "execution_count": 127,
     "metadata": {},
     "output_type": "execute_result"
    }
   ],
   "source": [
    "import os\n",
    "os.getcwd()"
   ]
  },
  {
   "cell_type": "code",
   "execution_count": 128,
   "id": "6e93b16e-086e-4d9b-921f-27cc8e3fdd8a",
   "metadata": {},
   "outputs": [],
   "source": [
    "import os\n",
    "os.chdir('/Users/helia/Desktop')\n"
   ]
  },
  {
   "cell_type": "code",
   "execution_count": 136,
   "id": "c9f7adf8-d9d5-40ab-8454-52451ba7d59f",
   "metadata": {},
   "outputs": [],
   "source": [
    "os.chdir('/Users/helia/Desktop/projects/leukodystrophy')"
   ]
  },
  {
   "cell_type": "code",
   "execution_count": 137,
   "id": "9c0e79f1-a699-4035-be41-7861e3f0d071",
   "metadata": {},
   "outputs": [
    {
     "data": {
      "text/plain": [
       "'/Users/helia/Desktop/Projects/Leukodystrophy'"
      ]
     },
     "execution_count": 137,
     "metadata": {},
     "output_type": "execute_result"
    }
   ],
   "source": [
    "pwd"
   ]
  },
  {
   "cell_type": "code",
   "execution_count": 139,
   "id": "cb8ee2af-7888-4a47-9627-24d62ea46bf7",
   "metadata": {},
   "outputs": [
    {
     "data": {
      "text/plain": [
       "['AGS',\n",
       " '.DS_Store',\n",
       " 'LKD',\n",
       " 'Articles',\n",
       " 'Excel',\n",
       " '~$ukodystrophy.docx',\n",
       " 'AlxD',\n",
       " 'Leukodystrophy.docx',\n",
       " 'MLC',\n",
       " 'tar',\n",
       " 'Dr. Nazeri']"
      ]
     },
     "execution_count": 139,
     "metadata": {},
     "output_type": "execute_result"
    }
   ],
   "source": [
    "os.listdir()"
   ]
  },
  {
   "cell_type": "code",
   "execution_count": 140,
   "id": "0d268989-5bc3-4654-bd65-90a9de2b5825",
   "metadata": {},
   "outputs": [],
   "source": [
    "os.chdir('mlc')"
   ]
  },
  {
   "cell_type": "code",
   "execution_count": 142,
   "id": "94ba97d0-8220-4262-8a0d-63d1ace8329b",
   "metadata": {},
   "outputs": [
    {
     "data": {
      "text/plain": [
       "['LKD_MLC.csv',\n",
       " '.DS_Store',\n",
       " 'LD_01_MLC_S0027',\n",
       " 'LD_01_MLC_S0018',\n",
       " 'LD_01_MLC_S0020',\n",
       " 'LD_01_MLC_S0021',\n",
       " 'LD_01_MLC_S0026',\n",
       " 'LD_01_MLC_S0019',\n",
       " 'LD_01_MLC_S0017',\n",
       " 'LD_01_MLC_S0028',\n",
       " 'LD_01_MLC_S0023',\n",
       " 'LD_01_MLC_S0024',\n",
       " 'LD_01_MLC_S0025',\n",
       " 'LD_01_MLC_S0022']"
      ]
     },
     "execution_count": 142,
     "metadata": {},
     "output_type": "execute_result"
    }
   ],
   "source": [
    "os.listdir()\n"
   ]
  },
  {
   "cell_type": "code",
   "execution_count": 148,
   "id": "8e3393a6-5d86-4c98-92fd-b1b5fecb5547",
   "metadata": {},
   "outputs": [
    {
     "data": {
      "text/plain": [
       "'/Users/helia/Desktop/Projects/Leukodystrophy/MLC/LD_01_MLC_S0027'"
      ]
     },
     "execution_count": 148,
     "metadata": {},
     "output_type": "execute_result"
    }
   ],
   "source": [
    "pwd"
   ]
  },
  {
   "cell_type": "code",
   "execution_count": 149,
   "id": "60c1816a-8a65-428f-9f67-794a499e9392",
   "metadata": {},
   "outputs": [
    {
     "name": "stdout",
     "output_type": "stream",
     "text": [
      "/Users/helia/Desktop/Projects/Leukodystrophy/MLC\n"
     ]
    }
   ],
   "source": [
    "cd ../"
   ]
  },
  {
   "cell_type": "code",
   "execution_count": 152,
   "id": "259b1742-3a73-4498-bda1-d62acf842f58",
   "metadata": {},
   "outputs": [],
   "source": [
    "df = pd.read_csv(\"LKD_MLC.csv\", index_col=0)"
   ]
  },
  {
   "cell_type": "code",
   "execution_count": 154,
   "id": "1e70f13a-4c5e-479f-b820-17ef18e1de55",
   "metadata": {},
   "outputs": [
    {
     "data": {
      "text/html": [
       "<div>\n",
       "<style scoped>\n",
       "    .dataframe tbody tr th:only-of-type {\n",
       "        vertical-align: middle;\n",
       "    }\n",
       "\n",
       "    .dataframe tbody tr th {\n",
       "        vertical-align: top;\n",
       "    }\n",
       "\n",
       "    .dataframe thead th {\n",
       "        text-align: right;\n",
       "    }\n",
       "</style>\n",
       "<table border=\"1\" class=\"dataframe\">\n",
       "  <thead>\n",
       "    <tr style=\"text-align: right;\">\n",
       "      <th></th>\n",
       "      <th>Folder_name</th>\n",
       "      <th>T1_file_name</th>\n",
       "      <th>T2_file_name</th>\n",
       "      <th>FLAIR</th>\n",
       "      <th>ADC</th>\n",
       "    </tr>\n",
       "  </thead>\n",
       "  <tbody>\n",
       "    <tr>\n",
       "      <th>1</th>\n",
       "      <td>LD_01_MLC_S0017</td>\n",
       "      <td>_t1_se_cor_20190302122709_8.nii</td>\n",
       "      <td>_t2_tse_sag_384_20190302122709_6.nii</td>\n",
       "      <td>_t2_tirm_tra_dark-fluid_20190302122709_5.nii</td>\n",
       "      <td>_ep2d_diff_3scan_trace_p2_20190302122709_4.nii</td>\n",
       "    </tr>\n",
       "    <tr>\n",
       "      <th>2</th>\n",
       "      <td>LD_01_MLC_S0018</td>\n",
       "      <td>_T1_se_AXI_20160828164401_4.nii</td>\n",
       "      <td>_T2-TSE-TRA-DE_20160828164401_3.nii</td>\n",
       "      <td>_t2_FLAIR_20160828164401_2.nii</td>\n",
       "      <td>_ep2d_diff_3scan_trace_p2_20160828164401_6.nii</td>\n",
       "    </tr>\n",
       "    <tr>\n",
       "      <th>3</th>\n",
       "      <td>LD_01_MLC_S0019</td>\n",
       "      <td>_BRAIN+C94_6_20160906172303_5.nii</td>\n",
       "      <td>_BRAIN+C94_3_20160906172303_3.nii</td>\n",
       "      <td>_BRAIN+C94_4_20160906172303_4.nii</td>\n",
       "      <td>NaN</td>\n",
       "    </tr>\n",
       "    <tr>\n",
       "      <th>4</th>\n",
       "      <td>LD_01_MLC_S0020</td>\n",
       "      <td>_t1_se_tra_20161114225616_3.nii</td>\n",
       "      <td>_pd+t2_tse_tra_20161114225616_2_e1.nii</td>\n",
       "      <td>_t2_tirm_tra_dark-fluid_20161114225616_4.nii</td>\n",
       "      <td>_ep2d_diff_3scan_20161114225616_10.nii</td>\n",
       "    </tr>\n",
       "    <tr>\n",
       "      <th>5</th>\n",
       "      <td>LD_01_MLC_S0021</td>\n",
       "      <td>_t1_se_tra_20161030171548_4.nii</td>\n",
       "      <td>_t2_tse_tra_20161030171548_3.nii</td>\n",
       "      <td>_t2_tirm_tra_dark-fluid_20161030171548_2.nii</td>\n",
       "      <td>_ep2d_diff_3scan_trace_p2_20161030171548_9.nii</td>\n",
       "    </tr>\n",
       "    <tr>\n",
       "      <th>6</th>\n",
       "      <td>LD_01_MLC_S0022</td>\n",
       "      <td>_eT1W_SE_CLEAR_20170124195655_402.nii</td>\n",
       "      <td>_eT2W_TSE_SENSE_20170124195655_302.nii</td>\n",
       "      <td>_eT2W_FLAIR_SENSE_20170124195655_502.nii</td>\n",
       "      <td>_dDWI_SENSE_20170124195655_802.nii</td>\n",
       "    </tr>\n",
       "    <tr>\n",
       "      <th>7</th>\n",
       "      <td>LD_01_MLC_S0023</td>\n",
       "      <td>_eT1W_SE_CLEAR_20170718215149_402.nii</td>\n",
       "      <td>_T2W_TSE_SENSE_20170718215149_301.nii</td>\n",
       "      <td>_eT2W_FLAIR_SENSE_20170718215149_502.nii</td>\n",
       "      <td>NaN</td>\n",
       "    </tr>\n",
       "    <tr>\n",
       "      <th>8</th>\n",
       "      <td>LD_01_MLC_S0024</td>\n",
       "      <td>_T13DTRA_20170914024519_4.nii</td>\n",
       "      <td>_t2_blade_tra_20170914024519_2.nii</td>\n",
       "      <td>_3DFLAIRSAG_20170914024519_5.nii</td>\n",
       "      <td>NaN</td>\n",
       "    </tr>\n",
       "    <tr>\n",
       "      <th>9</th>\n",
       "      <td>LD_01_MLC_S0025</td>\n",
       "      <td>_eT1W_SE_CLEAR_20180417212648_402.nii</td>\n",
       "      <td>_eT2W_TSE_SENSE_20180417212648_302.nii</td>\n",
       "      <td>_eT2W_FLAIR_SENSE_20180417212648_502.nii</td>\n",
       "      <td>_DWI_SENSE_20180417212648_801_ADC.nii</td>\n",
       "    </tr>\n",
       "    <tr>\n",
       "      <th>10</th>\n",
       "      <td>LD_01_MLC_S0026</td>\n",
       "      <td>NaN</td>\n",
       "      <td>NaN</td>\n",
       "      <td>NaN</td>\n",
       "      <td>NaN</td>\n",
       "    </tr>\n",
       "    <tr>\n",
       "      <th>11</th>\n",
       "      <td>LD_01_MLC_S0027</td>\n",
       "      <td>_t1_se_AX_20210422154315_3.nii</td>\n",
       "      <td>_t2_tse_tra_512_20210422154315_2.nii</td>\n",
       "      <td>_t2_tirm_tra_dark-fluid_20210422154315_4.nii</td>\n",
       "      <td>NaN</td>\n",
       "    </tr>\n",
       "    <tr>\n",
       "      <th>12</th>\n",
       "      <td>LD_01_MLC_S0028</td>\n",
       "      <td>_TRA_T1W_3D_TFE_20210607074946_204000.nii</td>\n",
       "      <td>_3D_Brain_VIEW_T2_20210607074946_302000.nii</td>\n",
       "      <td>_3D_Brain_VIEW_FLAIR_Tra_20210607074946_402000...</td>\n",
       "      <td>_dt_ADC_20210607074946_503001.nii</td>\n",
       "    </tr>\n",
       "  </tbody>\n",
       "</table>\n",
       "</div>"
      ],
      "text/plain": [
       "        Folder_name                               T1_file_name  \\\n",
       "1   LD_01_MLC_S0017            _t1_se_cor_20190302122709_8.nii   \n",
       "2   LD_01_MLC_S0018            _T1_se_AXI_20160828164401_4.nii   \n",
       "3   LD_01_MLC_S0019          _BRAIN+C94_6_20160906172303_5.nii   \n",
       "4   LD_01_MLC_S0020            _t1_se_tra_20161114225616_3.nii   \n",
       "5   LD_01_MLC_S0021            _t1_se_tra_20161030171548_4.nii   \n",
       "6   LD_01_MLC_S0022      _eT1W_SE_CLEAR_20170124195655_402.nii   \n",
       "7   LD_01_MLC_S0023      _eT1W_SE_CLEAR_20170718215149_402.nii   \n",
       "8   LD_01_MLC_S0024              _T13DTRA_20170914024519_4.nii   \n",
       "9   LD_01_MLC_S0025      _eT1W_SE_CLEAR_20180417212648_402.nii   \n",
       "10  LD_01_MLC_S0026                                        NaN   \n",
       "11  LD_01_MLC_S0027             _t1_se_AX_20210422154315_3.nii   \n",
       "12  LD_01_MLC_S0028  _TRA_T1W_3D_TFE_20210607074946_204000.nii   \n",
       "\n",
       "                                   T2_file_name  \\\n",
       "1          _t2_tse_sag_384_20190302122709_6.nii   \n",
       "2           _T2-TSE-TRA-DE_20160828164401_3.nii   \n",
       "3             _BRAIN+C94_3_20160906172303_3.nii   \n",
       "4        _pd+t2_tse_tra_20161114225616_2_e1.nii   \n",
       "5              _t2_tse_tra_20161030171548_3.nii   \n",
       "6        _eT2W_TSE_SENSE_20170124195655_302.nii   \n",
       "7         _T2W_TSE_SENSE_20170718215149_301.nii   \n",
       "8            _t2_blade_tra_20170914024519_2.nii   \n",
       "9        _eT2W_TSE_SENSE_20180417212648_302.nii   \n",
       "10                                          NaN   \n",
       "11         _t2_tse_tra_512_20210422154315_2.nii   \n",
       "12  _3D_Brain_VIEW_T2_20210607074946_302000.nii   \n",
       "\n",
       "                                                FLAIR  \\\n",
       "1        _t2_tirm_tra_dark-fluid_20190302122709_5.nii   \n",
       "2                      _t2_FLAIR_20160828164401_2.nii   \n",
       "3                   _BRAIN+C94_4_20160906172303_4.nii   \n",
       "4        _t2_tirm_tra_dark-fluid_20161114225616_4.nii   \n",
       "5        _t2_tirm_tra_dark-fluid_20161030171548_2.nii   \n",
       "6            _eT2W_FLAIR_SENSE_20170124195655_502.nii   \n",
       "7            _eT2W_FLAIR_SENSE_20170718215149_502.nii   \n",
       "8                    _3DFLAIRSAG_20170914024519_5.nii   \n",
       "9            _eT2W_FLAIR_SENSE_20180417212648_502.nii   \n",
       "10                                                NaN   \n",
       "11       _t2_tirm_tra_dark-fluid_20210422154315_4.nii   \n",
       "12  _3D_Brain_VIEW_FLAIR_Tra_20210607074946_402000...   \n",
       "\n",
       "                                               ADC  \n",
       "1   _ep2d_diff_3scan_trace_p2_20190302122709_4.nii  \n",
       "2   _ep2d_diff_3scan_trace_p2_20160828164401_6.nii  \n",
       "3                                              NaN  \n",
       "4           _ep2d_diff_3scan_20161114225616_10.nii  \n",
       "5   _ep2d_diff_3scan_trace_p2_20161030171548_9.nii  \n",
       "6               _dDWI_SENSE_20170124195655_802.nii  \n",
       "7                                              NaN  \n",
       "8                                              NaN  \n",
       "9            _DWI_SENSE_20180417212648_801_ADC.nii  \n",
       "10                                             NaN  \n",
       "11                                             NaN  \n",
       "12               _dt_ADC_20210607074946_503001.nii  "
      ]
     },
     "execution_count": 154,
     "metadata": {},
     "output_type": "execute_result"
    }
   ],
   "source": [
    "df"
   ]
  },
  {
   "cell_type": "markdown",
   "id": "8611d6da-d3b9-427a-924b-cb5b20bd3031",
   "metadata": {},
   "source": [
    "#### Registration of FLAIR to T2 images using identity matrix\n",
    "    \n",
    "\n",
    "FSL\n",
    "    fslinfo \n",
    "    flirt \n",
    "    \n",
    "[Back Home](#MLC)"
   ]
  },
  {
   "cell_type": "code",
   "execution_count": 175,
   "id": "c737d04c-c297-4cf7-b456-79cb1e0b3bf5",
   "metadata": {},
   "outputs": [
    {
     "name": "stdout",
     "output_type": "stream",
     "text": [
      "data_type\tINT16\n",
      "dim1\t\t320\n",
      "dim2\t\t320\n",
      "dim3\t\t19\n",
      "dim4\t\t1\n",
      "datatype\t4\n",
      "pixdim1\t\t0.750000\n",
      "pixdim2\t\t0.750000\n",
      "pixdim3\t\t6.500000\n",
      "pixdim4\t\t4.000000\n",
      "cal_max\t\t0.000000\n",
      "cal_min\t\t0.000000\n",
      "file_type\tNIFTI-1+\n",
      "data_type\tINT16\n",
      "dim1\t\t320\n",
      "dim2\t\t320\n",
      "dim3\t\t15\n",
      "dim4\t\t1\n",
      "datatype\t4\n",
      "pixdim1\t\t0.750000\n",
      "pixdim2\t\t0.750000\n",
      "pixdim3\t\t9.750000\n",
      "pixdim4\t\t4.300000\n",
      "cal_max\t\t0.000000\n",
      "cal_min\t\t0.000000\n",
      "file_type\tNIFTI-1+\n",
      "data_type\tINT16\n",
      "dim1\t\t512\n",
      "dim2\t\t512\n",
      "dim3\t\t16\n",
      "dim4\t\t1\n",
      "datatype\t4\n",
      "pixdim1\t\t0.468800\n",
      "pixdim2\t\t0.468800\n",
      "pixdim3\t\t7.000000\n",
      "pixdim4\t\t4.120000\n",
      "cal_max\t\t0.000000\n",
      "cal_min\t\t0.000000\n",
      "file_type\tNIFTI-1+\n",
      "data_type\tINT16\n",
      "dim1\t\t384\n",
      "dim2\t\t512\n",
      "dim3\t\t15\n",
      "dim4\t\t1\n",
      "datatype\t4\n",
      "pixdim1\t\t0.517578\n",
      "pixdim2\t\t0.517578\n",
      "pixdim3\t\t9.300000\n",
      "pixdim4\t\t3.000000\n",
      "cal_max\t\t0.000000\n",
      "cal_min\t\t0.000000\n",
      "file_type\tNIFTI-1+\n",
      "data_type\tINT16\n",
      "dim1\t\t288\n",
      "dim2\t\t384\n",
      "dim3\t\t21\n",
      "dim4\t\t1\n",
      "datatype\t4\n",
      "pixdim1\t\t0.598958\n",
      "pixdim2\t\t0.598958\n",
      "pixdim3\t\t7.500000\n",
      "pixdim4\t\t4.130000\n",
      "cal_max\t\t0.000000\n",
      "cal_min\t\t0.000000\n",
      "file_type\tNIFTI-1+\n",
      "data_type\tINT16\n",
      "dim1\t\t448\n",
      "dim2\t\t448\n",
      "dim3\t\t20\n",
      "dim4\t\t1\n",
      "datatype\t4\n",
      "pixdim1\t\t0.446429\n",
      "pixdim2\t\t0.446429\n",
      "pixdim3\t\t6.000000\n",
      "pixdim4\t\t4.445380\n",
      "cal_max\t\t0.000000\n",
      "cal_min\t\t0.000000\n",
      "file_type\tNIFTI-1+\n",
      "data_type\tINT16\n",
      "dim1\t\t512\n",
      "dim2\t\t512\n",
      "dim3\t\t20\n",
      "dim4\t\t1\n",
      "datatype\t4\n",
      "pixdim1\t\t0.429688\n",
      "pixdim2\t\t0.429688\n",
      "pixdim3\t\t5.500000\n",
      "pixdim4\t\t4.445184\n",
      "cal_max\t\t0.000000\n",
      "cal_min\t\t0.000000\n",
      "file_type\tNIFTI-1+\n",
      "data_type\tINT16\n",
      "dim1\t\t256\n",
      "dim2\t\t256\n",
      "dim3\t\t24\n",
      "dim4\t\t1\n",
      "datatype\t4\n",
      "pixdim1\t\t0.898438\n",
      "pixdim2\t\t0.898438\n",
      "pixdim3\t\t5.500000\n",
      "pixdim4\t\t4.000000\n",
      "cal_max\t\t0.000000\n",
      "cal_min\t\t0.000000\n",
      "file_type\tNIFTI-1+\n",
      "data_type\tINT16\n",
      "dim1\t\t560\n",
      "dim2\t\t560\n",
      "dim3\t\t20\n",
      "dim4\t\t1\n",
      "datatype\t4\n",
      "pixdim1\t\t0.428571\n",
      "pixdim2\t\t0.428571\n",
      "pixdim3\t\t6.500000\n",
      "pixdim4\t\t4.445184\n",
      "cal_max\t\t0.000000\n",
      "cal_min\t\t0.000000\n",
      "file_type\tNIFTI-1+\n",
      "data_type\tINT16\n",
      "dim1\t\t320\n",
      "dim2\t\t320\n",
      "dim3\t\t15\n",
      "dim4\t\t1\n",
      "datatype\t4\n",
      "pixdim1\t\t0.687500\n",
      "pixdim2\t\t0.687500\n",
      "pixdim3\t\t8.800000\n",
      "pixdim4\t\t4.000000\n",
      "cal_max\t\t0.000000\n",
      "cal_min\t\t0.000000\n",
      "file_type\tNIFTI-1+\n",
      "data_type\tINT16\n",
      "dim1\t\t291\n",
      "dim2\t\t352\n",
      "dim3\t\t352\n",
      "dim4\t\t1\n",
      "datatype\t4\n",
      "pixdim1\t\t0.550000\n",
      "pixdim2\t\t0.625000\n",
      "pixdim3\t\t0.625000\n",
      "pixdim4\t\t2.800000\n",
      "cal_max\t\t0.000000\n",
      "cal_min\t\t0.000000\n",
      "file_type\tNIFTI-1+\n"
     ]
    },
    {
     "name": "stderr",
     "output_type": "stream",
     "text": [
      "Image Exception : #63 :: No image files match: nan\n",
      "No image files match: nan\n"
     ]
    }
   ],
   "source": [
    "for row, column in df.iterrows():\n",
    "    folder_name = column['Folder_name']\n",
    "    t2_file_name = column['T2_file_name']\n",
    "    \n",
    "\n",
    "    os.chdir(f'/Users/helia/Desktop/Projects/Leukodystrophy/MLC/{folder_name}')\n",
    "\n",
    "    fslinfo_command = f'fslinfo {t2_file_name}'\n",
    "    os.system(fslinfo_command)"
   ]
  },
  {
   "cell_type": "code",
   "execution_count": 180,
   "id": "bc9eac4e-4900-48f6-ad73-59ad97a06494",
   "metadata": {},
   "outputs": [
    {
     "name": "stderr",
     "output_type": "stream",
     "text": [
      "Could not open matrix file identity.mat\n",
      "matrix multiplication: incompatible matrix dimensions: 4x4 and 0x0\n",
      "Could not open matrix file identity.mat\n",
      "matrix multiplication: incompatible matrix dimensions: 4x4 and 0x0\n",
      "Could not open matrix file identity.mat\n",
      "matrix multiplication: incompatible matrix dimensions: 4x4 and 0x0\n",
      "Could not open matrix file identity.mat\n",
      "matrix multiplication: incompatible matrix dimensions: 4x4 and 0x0\n",
      "Could not open matrix file identity.mat\n",
      "matrix multiplication: incompatible matrix dimensions: 4x4 and 0x0\n",
      "Could not open matrix file identity.mat\n",
      "matrix multiplication: incompatible matrix dimensions: 4x4 and 0x0\n",
      "Could not open matrix file identity.mat\n",
      "matrix multiplication: incompatible matrix dimensions: 4x4 and 0x0\n"
     ]
    },
    {
     "name": "stdout",
     "output_type": "stream",
     "text": [
      "\n",
      "Final result: \n",
      "1.002653 0.012147 -0.005723 36.414862 \n",
      "-0.011384 0.998227 -0.102147 0.045707 \n",
      "0.008540 0.099557 0.999252 -89.680985 \n",
      "0.000000 0.000000 0.000000 1.000000 \n",
      "\n"
     ]
    },
    {
     "name": "stderr",
     "output_type": "stream",
     "text": [
      "Could not open matrix file identity.mat\n",
      "matrix multiplication: incompatible matrix dimensions: 4x4 and 0x0\n",
      "Could not open matrix file identity.mat\n",
      "matrix multiplication: incompatible matrix dimensions: 4x4 and 0x0\n",
      "Could not open matrix file identity.mat\n",
      "matrix multiplication: incompatible matrix dimensions: 4x4 and 0x0\n"
     ]
    }
   ],
   "source": [
    "for row, column in df.iterrows():\n",
    "    folder_name = column['Folder_name']\n",
    "    t2_file_name = column['T2_file_name']\n",
    "    flair_file = column['FLAIR']\n",
    "    \n",
    "\n",
    "    os.chdir(f'/Users/helia/Desktop/Projects/Leukodystrophy/MLC/{folder_name}')\n",
    "\n",
    "    #fslinfo_command = f'fslinfo {t2_file_name}'\n",
    "    #os.system(fslinfo_command)\n",
    "    \n",
    "    if pd.notna(flair_file) and pd.notna(t2_file_name):\n",
    "\n",
    "        # Using flirt for registration with the identity matrix\n",
    "        flirt_command = f'flirt -in {flair_file} -ref {t2_file_name} -out flair_t2_registered_path -init identity.mat'\n",
    "        subprocess.run(flirt_command, shell=True)\n"
   ]
  },
  {
   "cell_type": "code",
   "execution_count": 181,
   "id": "7b892b32-e35d-4e80-8b06-0531861e6801",
   "metadata": {},
   "outputs": [
    {
     "name": "stdout",
     "output_type": "stream",
     "text": [
      "\n",
      "Final result: \n",
      "-0.059206 -1.017578 0.078428 251.242042 \n",
      "-0.061198 0.079688 1.045708 61.671716 \n",
      "-0.979580 0.043899 -0.079620 149.686091 \n",
      "0.000000 0.000000 0.000000 1.000000 \n",
      "\n",
      "\n",
      "Final result: \n",
      "1.005310 -0.001786 -0.001874 10.417982 \n",
      "-0.001097 1.003208 0.002145 -5.007468 \n",
      "0.001246 -0.009214 1.069517 -0.680513 \n",
      "0.000000 0.000000 0.000000 1.000000 \n",
      "\n",
      "\n",
      "Final result: \n",
      "0.999972 0.000478 0.000422 0.126285 \n",
      "0.000000 1.000036 -0.000651 0.303648 \n",
      "-0.000100 0.001069 1.009149 -0.955275 \n",
      "0.000000 0.000000 0.000000 1.000000 \n",
      "\n",
      "\n",
      "Final result: \n",
      "0.996357 -0.002261 0.042694 -6.325976 \n",
      "0.002197 1.000613 0.019173 9.614530 \n",
      "-0.043779 -0.023263 1.019850 2.460631 \n",
      "0.000000 0.000000 0.000000 1.000000 \n",
      "\n",
      "\n",
      "Final result: \n",
      "1.000204 -0.003313 -0.002325 -4.942647 \n",
      "0.006827 1.001499 0.014038 -11.324084 \n",
      "0.002203 -0.007906 1.012281 1.111099 \n",
      "0.000000 0.000000 0.000000 1.000000 \n",
      "\n",
      "\n",
      "Final result: \n",
      "1.001973 0.000219 -0.000128 0.115999 \n",
      "0.000000 1.002012 0.001180 0.057971 \n",
      "0.000128 -0.000304 1.001785 0.016180 \n",
      "0.000000 0.000000 0.000000 1.000000 \n",
      "\n",
      "\n",
      "Final result: \n",
      "0.998585 -0.001548 -0.002488 5.258399 \n",
      "0.000843 0.997756 -0.005062 5.301650 \n",
      "0.003338 0.001900 0.989306 -5.151703 \n",
      "0.000000 0.000000 0.000000 1.000000 \n",
      "\n",
      "\n",
      "Final result: \n",
      "1.002653 0.012147 -0.005723 36.414862 \n",
      "-0.011384 0.998227 -0.102147 0.045707 \n",
      "0.008540 0.099557 0.999252 -89.680985 \n",
      "0.000000 0.000000 0.000000 1.000000 \n",
      "\n",
      "\n",
      "Final result: \n",
      "0.997226 0.000615 0.001213 0.360203 \n",
      "0.000014 1.004186 -0.003321 -0.123584 \n",
      "-0.000898 0.001348 1.007140 -0.149605 \n",
      "0.000000 0.000000 0.000000 1.000000 \n",
      "\n",
      "\n",
      "Final result: \n",
      "1.003210 -0.011973 -0.017792 10.641033 \n",
      "0.011209 0.999552 0.000544 -5.539939 \n",
      "0.015174 -0.007767 1.042086 -1.084660 \n",
      "0.000000 0.000000 0.000000 1.000000 \n",
      "\n",
      "\n",
      "Final result: \n",
      "0.995873 0.000701 0.000953 -46.375636 \n",
      "0.000000 0.998132 0.001676 -14.066055 \n",
      "0.000000 -0.000274 0.998075 35.517465 \n",
      "0.000000 0.000000 0.000000 1.000000 \n",
      "\n"
     ]
    }
   ],
   "source": [
    "for row, column in df.iterrows():\n",
    "    folder_name = column['Folder_name']\n",
    "    t2_file_name = column['T2_file_name']\n",
    "    flair_file = column['FLAIR']\n",
    "    \n",
    "\n",
    "    os.chdir(f'/Users/helia/Desktop/Projects/Leukodystrophy/MLC/{folder_name}')\n",
    "\n",
    "    #fslinfo_command = f'fslinfo {t2_file_name}'\n",
    "    #os.system(fslinfo_command)\n",
    "    \n",
    "    \n",
    "    # Create the identity matrix file\n",
    "    identity_matrix_command = 'echo \"1 0 0 0\\n0 1 0 0\\n0 0 1 0\\n0 0 0 1\" > identity.mat'\n",
    "    subprocess.run(identity_matrix_command, shell=True)\n",
    "\n",
    "    \n",
    "    if pd.notna(flair_file) and pd.notna(t2_file_name):\n",
    "\n",
    "        # Using flirt for registration with the identity matrix\n",
    "        flirt_command = f'flirt -in {flair_file} -ref {t2_file_name} -out flair_t2_registered_path -init identity.mat'\n",
    "        subprocess.run(flirt_command, shell=True)\n"
   ]
  },
  {
   "cell_type": "code",
   "execution_count": 183,
   "id": "9e0fac0b-71e0-4f1e-bf13-46622f10d87d",
   "metadata": {},
   "outputs": [
    {
     "data": {
      "text/plain": [
       "'/Users/helia/Desktop/Projects/Leukodystrophy/MLC/LD_01_MLC_S0028'"
      ]
     },
     "execution_count": 183,
     "metadata": {},
     "output_type": "execute_result"
    }
   ],
   "source": [
    "pwd\n"
   ]
  },
  {
   "cell_type": "code",
   "execution_count": 184,
   "id": "2e2c47d4-4f04-4b03-a687-d860d1281e01",
   "metadata": {},
   "outputs": [
    {
     "data": {
      "text/plain": [
       "['_MPR_-_3D_Brain_VIEW_T2_20210607074946_303000_i00002.json',\n",
       " '_TRA_Brain_VIEW_T2_20210607074946_305000.nii',\n",
       " '_DWI_20210607074946_502001.json',\n",
       " '_DWI_20210607074946_503002.nii',\n",
       " '_COR_Brain_VIEW_T2_20210607074946_304000.json',\n",
       " '_COR_T1W_3D_TFE_20210607074946_203000.json',\n",
       " '_SAG_T1W_3D_TFE_20210607074946_205000.nii',\n",
       " '_dt_ADC_20210607074946_503001.nii',\n",
       " '.DS_Store',\n",
       " '_TRA_T1W_3D_TFE_20210607074946_204000.json',\n",
       " '_sT1W_3D_TFE_20210607074946_202000.nii',\n",
       " '_Survey_20210607074946_102000_i00005.json',\n",
       " 'flair_t2_registered_path.nii.gz',\n",
       " '_COR_Brain_VIEW_T2_20210607074946_304000.nii',\n",
       " '_T1W_IR_COR_OBL_20210607074946_602000.json',\n",
       " '_3D_Brain_VIEW_T2_20210607074946_302000.nii',\n",
       " '_T1W_IR_COR_OBL_20210607074946_602000_real.json',\n",
       " '_Survey_20210607074946_102000_i00003.json',\n",
       " '_3D_Brain_VIEW_FLAIR_Tra_20210607074946_402000.json',\n",
       " '_SAG_Brain_VIEW_T2_20210607074946_306000.nii',\n",
       " '_3D_Brain_VIEW_T2_20210607074946_302000.json',\n",
       " '_DWI_20210607074946_503002.bval',\n",
       " '_sT1W_3D_TFE_20210607074946_202000.json',\n",
       " '_Survey_20210607074946_102000_i00005.nii',\n",
       " '_TRA_Brain_VIEW_T2_20210607074946_305000.json',\n",
       " '_SAG_T1W_3D_TFE_20210607074946_205000.json',\n",
       " '_DWI_20210607074946_502001.nii',\n",
       " '_dt_ADC_20210607074946_503001.json',\n",
       " '_Survey_20210607074946_102000_i00003.nii',\n",
       " '_Survey_20210607074946_102000_i00001.json',\n",
       " '_Survey_20210607074946_102000_i00001.nii',\n",
       " '_T1W_IR_COR_OBL_20210607074946_602000_real.nii',\n",
       " '_3D_Brain_VIEW_FLAIR_Tra_20210607074946_402000.nii',\n",
       " '_DWI_20210607074946_503002.json',\n",
       " 'identity.mat',\n",
       " '_COR_T1W_3D_TFE_20210607074946_203000.nii',\n",
       " 'DICOM',\n",
       " '_MPR_-_3D_Brain_VIEW_T2_20210607074946_303000_i00002.nii',\n",
       " '_TRA_T1W_3D_TFE_20210607074946_204000.nii',\n",
       " '_SAG_Brain_VIEW_T2_20210607074946_306000.json',\n",
       " '_MPR_-_3D_Brain_VIEW_T2_20210607074946_303000_i00001.json',\n",
       " '_MPR_-_3D_Brain_VIEW_T2_20210607074946_303000_i00001.nii',\n",
       " '_T1W_IR_COR_OBL_20210607074946_602000.nii']"
      ]
     },
     "execution_count": 184,
     "metadata": {},
     "output_type": "execute_result"
    }
   ],
   "source": [
    "os.listdir()"
   ]
  },
  {
   "cell_type": "code",
   "execution_count": 185,
   "id": "e2e33344-d98f-4e99-a01c-9a13e9609898",
   "metadata": {},
   "outputs": [],
   "source": [
    "!fsleyes flair_t2_registered_path.nii.gz"
   ]
  },
  {
   "cell_type": "markdown",
   "id": "b069603d-d079-4262-b541-b644ca54660a",
   "metadata": {},
   "source": [
    "#### Calculating FLAIR/T2 ratio \n",
    "\n",
    "fslmaths [Early cystic changes]\n",
    "    \n",
    "fslmaths [FLAIR].nii.gz -div T2_reg.nii.gz FLAIR_T2_ratio\n",
    "\n",
    "[Back Home](#MLC)"
   ]
  },
  {
   "cell_type": "code",
   "execution_count": 188,
   "id": "38121872-498d-4aee-9d7f-5dc1b0c2ca44",
   "metadata": {},
   "outputs": [],
   "source": [
    "for row, column in df.iterrows():\n",
    "    folder_name = column['Folder_name']\n",
    "    t2_file_name = column['T2_file_name']\n",
    "    \n",
    "    os.chdir(f'/Users/helia/Desktop/Projects/Leukodystrophy/MLC/{folder_name}')\n",
    "    \n",
    "    if pd.notna(t2_file_name):\n",
    "        \n",
    "        fslmaths_command = f'fslmaths flair_t2_registered_path.nii -div {t2_file_name} FLAIR_T2_Ratio.nii.gz'\n",
    "        subprocess.run(fslmaths_command, shell=True)\n",
    "        \n",
    "    "
   ]
  },
  {
   "cell_type": "code",
   "execution_count": 189,
   "id": "67c499db-66c0-442b-b151-fa1026901e87",
   "metadata": {},
   "outputs": [
    {
     "data": {
      "text/plain": [
       "'/Users/helia/Desktop/Projects/Leukodystrophy/MLC/LD_01_MLC_S0028'"
      ]
     },
     "execution_count": 189,
     "metadata": {},
     "output_type": "execute_result"
    }
   ],
   "source": [
    "pwd"
   ]
  },
  {
   "cell_type": "code",
   "execution_count": 190,
   "id": "93177642-bdc1-4de1-8fa2-49e4e8f7e1d1",
   "metadata": {},
   "outputs": [
    {
     "data": {
      "text/plain": [
       "['_MPR_-_3D_Brain_VIEW_T2_20210607074946_303000_i00002.json',\n",
       " '_TRA_Brain_VIEW_T2_20210607074946_305000.nii',\n",
       " '_DWI_20210607074946_502001.json',\n",
       " '_DWI_20210607074946_503002.nii',\n",
       " '_COR_Brain_VIEW_T2_20210607074946_304000.json',\n",
       " '_COR_T1W_3D_TFE_20210607074946_203000.json',\n",
       " '_SAG_T1W_3D_TFE_20210607074946_205000.nii',\n",
       " '_dt_ADC_20210607074946_503001.nii',\n",
       " '.DS_Store',\n",
       " '_TRA_T1W_3D_TFE_20210607074946_204000.json',\n",
       " '_sT1W_3D_TFE_20210607074946_202000.nii',\n",
       " 'FLAIR_T2_Ratio.nii.gz',\n",
       " '_Survey_20210607074946_102000_i00005.json',\n",
       " 'flair_t2_registered_path.nii.gz',\n",
       " '_COR_Brain_VIEW_T2_20210607074946_304000.nii',\n",
       " '_T1W_IR_COR_OBL_20210607074946_602000.json',\n",
       " '_3D_Brain_VIEW_T2_20210607074946_302000.nii',\n",
       " '_T1W_IR_COR_OBL_20210607074946_602000_real.json',\n",
       " '_Survey_20210607074946_102000_i00003.json',\n",
       " '_3D_Brain_VIEW_FLAIR_Tra_20210607074946_402000.json',\n",
       " '_SAG_Brain_VIEW_T2_20210607074946_306000.nii',\n",
       " '_3D_Brain_VIEW_T2_20210607074946_302000.json',\n",
       " '_DWI_20210607074946_503002.bval',\n",
       " '_sT1W_3D_TFE_20210607074946_202000.json',\n",
       " '_Survey_20210607074946_102000_i00005.nii',\n",
       " '_TRA_Brain_VIEW_T2_20210607074946_305000.json',\n",
       " '_SAG_T1W_3D_TFE_20210607074946_205000.json',\n",
       " '_DWI_20210607074946_502001.nii',\n",
       " '_dt_ADC_20210607074946_503001.json',\n",
       " '_Survey_20210607074946_102000_i00003.nii',\n",
       " '_Survey_20210607074946_102000_i00001.json',\n",
       " '_Survey_20210607074946_102000_i00001.nii',\n",
       " '_T1W_IR_COR_OBL_20210607074946_602000_real.nii',\n",
       " '_3D_Brain_VIEW_FLAIR_Tra_20210607074946_402000.nii',\n",
       " '_DWI_20210607074946_503002.json',\n",
       " 'identity.mat',\n",
       " '_COR_T1W_3D_TFE_20210607074946_203000.nii',\n",
       " 'DICOM',\n",
       " '_MPR_-_3D_Brain_VIEW_T2_20210607074946_303000_i00002.nii',\n",
       " '_TRA_T1W_3D_TFE_20210607074946_204000.nii',\n",
       " '_SAG_Brain_VIEW_T2_20210607074946_306000.json',\n",
       " '_MPR_-_3D_Brain_VIEW_T2_20210607074946_303000_i00001.json',\n",
       " '_MPR_-_3D_Brain_VIEW_T2_20210607074946_303000_i00001.nii',\n",
       " '_T1W_IR_COR_OBL_20210607074946_602000.nii']"
      ]
     },
     "execution_count": 190,
     "metadata": {},
     "output_type": "execute_result"
    }
   ],
   "source": [
    "os.listdir()"
   ]
  },
  {
   "cell_type": "code",
   "execution_count": 192,
   "id": "f573c10c-f3b3-4ec7-a10b-7f89301210a1",
   "metadata": {},
   "outputs": [],
   "source": [
    "!fsleyes FLAIR_T2_Ratio.nii.gz"
   ]
  },
  {
   "cell_type": "markdown",
   "id": "aa8a6078-f352-4101-9c87-664d306f887f",
   "metadata": {},
   "source": [
    "#### Brain Extraction\n",
    "\n",
    "Freesurfer\n",
    "    \n",
    "mri_synthstrip -i input -o stripped\n",
    "\n",
    "Synthseg:\n",
    "    https://surfer.nmr.mgh.harvard.edu/fswiki/SynthSeg\n",
    "    distancemap [options] -i <inputimage> -o <outputimage>\n",
    "    \n",
    "[Back Home](#MLC)"
   ]
  },
  {
   "cell_type": "code",
   "execution_count": 194,
   "id": "78ec6f72-3122-429e-9872-1dad0457d20a",
   "metadata": {},
   "outputs": [
    {
     "name": "stdout",
     "output_type": "stream",
     "text": [
      "Robust, universal skull-stripping for brain images of any type.\n",
      "usage: mri_synthstrip [-h] -i file [-o file] [-m file] [-g] [-b BORDER]\n",
      "                      [--no-csf] [--model file]\n",
      "\n",
      "optional arguments:\n",
      "  -h, --help            show this help message and exit\n",
      "  -i file, --image file\n",
      "                        Input image to skullstrip.\n",
      "  -o file, --out file   Save stripped image to path.\n",
      "  -m file, --mask file  Save binary brain mask to path.\n",
      "  -g, --gpu             Use the GPU.\n",
      "  -b BORDER, --border BORDER\n",
      "                        Mask border threshold in mm. Default is 1.\n",
      "  --no-csf              Exclude CSF from brain border.\n",
      "  --model file          Alternative model weights.\n",
      "\n",
      "If you use SynthStrip in your analysis, please cite:\n",
      "----------------------------------------------------\n",
      "SynthStrip: Skull-Stripping for Any Brain Image\n",
      "A Hoopes, JS Mora, AV Dalca, B Fischl, M Hoffmann\n",
      "NeuroImage 206 (2022), 119474\n",
      "https://doi.org/10.1016/j.neuroimage.2022.119474 \n",
      "\n",
      "Website: https://w3id.org/synthstrip\n",
      "\n"
     ]
    }
   ],
   "source": [
    "!mri_synthstrip"
   ]
  },
  {
   "cell_type": "code",
   "execution_count": 196,
   "id": "d3c82516-8878-4ee9-9e55-05d7b85295b6",
   "metadata": {},
   "outputs": [
    {
     "name": "stdout",
     "output_type": "stream",
     "text": [
      "Configuring model on the CPU\n",
      "Running SynthStrip model version 1\n",
      "Input image read from: flair_t2_registered_path.nii.gz\n",
      "Processing frame (of 1): 1 done\n",
      "Masked image saved to: FLAIR_T2_EXTRACTED_BRAIN_synthstrip.nii.gz\n",
      "\n",
      "If you use SynthStrip in your analysis, please cite:\n",
      "----------------------------------------------------\n",
      "SynthStrip: Skull-Stripping for Any Brain Image\n",
      "A Hoopes, JS Mora, AV Dalca, B Fischl, M Hoffmann\n",
      "NeuroImage 206 (2022), 119474\n",
      "https://doi.org/10.1016/j.neuroimage.2022.119474 \n",
      "\n",
      "Website: https://w3id.org/synthstrip\n",
      "\n",
      "Configuring model on the CPU\n",
      "Running SynthStrip model version 1\n",
      "Input image read from: flair_t2_registered_path.nii.gz\n",
      "Processing frame (of 1): 1 done\n",
      "Masked image saved to: FLAIR_T2_EXTRACTED_BRAIN_synthstrip.nii.gz\n",
      "\n",
      "If you use SynthStrip in your analysis, please cite:\n",
      "----------------------------------------------------\n",
      "SynthStrip: Skull-Stripping for Any Brain Image\n",
      "A Hoopes, JS Mora, AV Dalca, B Fischl, M Hoffmann\n",
      "NeuroImage 206 (2022), 119474\n",
      "https://doi.org/10.1016/j.neuroimage.2022.119474 \n",
      "\n",
      "Website: https://w3id.org/synthstrip\n",
      "\n",
      "Configuring model on the CPU\n",
      "Running SynthStrip model version 1\n",
      "Input image read from: flair_t2_registered_path.nii.gz\n",
      "Processing frame (of 1): 1 done\n",
      "Masked image saved to: FLAIR_T2_EXTRACTED_BRAIN_synthstrip.nii.gz\n",
      "\n",
      "If you use SynthStrip in your analysis, please cite:\n",
      "----------------------------------------------------\n",
      "SynthStrip: Skull-Stripping for Any Brain Image\n",
      "A Hoopes, JS Mora, AV Dalca, B Fischl, M Hoffmann\n",
      "NeuroImage 206 (2022), 119474\n",
      "https://doi.org/10.1016/j.neuroimage.2022.119474 \n",
      "\n",
      "Website: https://w3id.org/synthstrip\n",
      "\n",
      "Configuring model on the CPU\n",
      "Running SynthStrip model version 1\n",
      "Input image read from: flair_t2_registered_path.nii.gz\n",
      "Processing frame (of 1): 1 done\n",
      "Masked image saved to: FLAIR_T2_EXTRACTED_BRAIN_synthstrip.nii.gz\n",
      "\n",
      "If you use SynthStrip in your analysis, please cite:\n",
      "----------------------------------------------------\n",
      "SynthStrip: Skull-Stripping for Any Brain Image\n",
      "A Hoopes, JS Mora, AV Dalca, B Fischl, M Hoffmann\n",
      "NeuroImage 206 (2022), 119474\n",
      "https://doi.org/10.1016/j.neuroimage.2022.119474 \n",
      "\n",
      "Website: https://w3id.org/synthstrip\n",
      "\n",
      "Configuring model on the CPU\n",
      "Running SynthStrip model version 1\n",
      "Input image read from: flair_t2_registered_path.nii.gz\n",
      "Processing frame (of 1): 1 done\n",
      "Masked image saved to: FLAIR_T2_EXTRACTED_BRAIN_synthstrip.nii.gz\n",
      "\n",
      "If you use SynthStrip in your analysis, please cite:\n",
      "----------------------------------------------------\n",
      "SynthStrip: Skull-Stripping for Any Brain Image\n",
      "A Hoopes, JS Mora, AV Dalca, B Fischl, M Hoffmann\n",
      "NeuroImage 206 (2022), 119474\n",
      "https://doi.org/10.1016/j.neuroimage.2022.119474 \n",
      "\n",
      "Website: https://w3id.org/synthstrip\n",
      "\n",
      "Configuring model on the CPU\n",
      "Running SynthStrip model version 1\n",
      "Input image read from: flair_t2_registered_path.nii.gz\n",
      "Processing frame (of 1): 1 done\n",
      "Masked image saved to: FLAIR_T2_EXTRACTED_BRAIN_synthstrip.nii.gz\n",
      "\n",
      "If you use SynthStrip in your analysis, please cite:\n",
      "----------------------------------------------------\n",
      "SynthStrip: Skull-Stripping for Any Brain Image\n",
      "A Hoopes, JS Mora, AV Dalca, B Fischl, M Hoffmann\n",
      "NeuroImage 206 (2022), 119474\n",
      "https://doi.org/10.1016/j.neuroimage.2022.119474 \n",
      "\n",
      "Website: https://w3id.org/synthstrip\n",
      "\n",
      "Configuring model on the CPU\n",
      "Running SynthStrip model version 1\n",
      "Input image read from: flair_t2_registered_path.nii.gz\n",
      "Processing frame (of 1): 1 done\n",
      "Masked image saved to: FLAIR_T2_EXTRACTED_BRAIN_synthstrip.nii.gz\n",
      "\n",
      "If you use SynthStrip in your analysis, please cite:\n",
      "----------------------------------------------------\n",
      "SynthStrip: Skull-Stripping for Any Brain Image\n",
      "A Hoopes, JS Mora, AV Dalca, B Fischl, M Hoffmann\n",
      "NeuroImage 206 (2022), 119474\n",
      "https://doi.org/10.1016/j.neuroimage.2022.119474 \n",
      "\n",
      "Website: https://w3id.org/synthstrip\n",
      "\n",
      "Configuring model on the CPU\n",
      "Running SynthStrip model version 1\n",
      "Input image read from: flair_t2_registered_path.nii.gz\n",
      "Processing frame (of 1): 1 done\n",
      "Masked image saved to: FLAIR_T2_EXTRACTED_BRAIN_synthstrip.nii.gz\n",
      "\n",
      "If you use SynthStrip in your analysis, please cite:\n",
      "----------------------------------------------------\n",
      "SynthStrip: Skull-Stripping for Any Brain Image\n",
      "A Hoopes, JS Mora, AV Dalca, B Fischl, M Hoffmann\n",
      "NeuroImage 206 (2022), 119474\n",
      "https://doi.org/10.1016/j.neuroimage.2022.119474 \n",
      "\n",
      "Website: https://w3id.org/synthstrip\n",
      "\n",
      "Configuring model on the CPU\n",
      "Running SynthStrip model version 1\n",
      "Input image read from: flair_t2_registered_path.nii.gz\n",
      "Processing frame (of 1): 1 done\n",
      "Masked image saved to: FLAIR_T2_EXTRACTED_BRAIN_synthstrip.nii.gz\n",
      "\n",
      "If you use SynthStrip in your analysis, please cite:\n",
      "----------------------------------------------------\n",
      "SynthStrip: Skull-Stripping for Any Brain Image\n",
      "A Hoopes, JS Mora, AV Dalca, B Fischl, M Hoffmann\n",
      "NeuroImage 206 (2022), 119474\n",
      "https://doi.org/10.1016/j.neuroimage.2022.119474 \n",
      "\n",
      "Website: https://w3id.org/synthstrip\n",
      "\n",
      "Configuring model on the CPU\n",
      "Running SynthStrip model version 1\n"
     ]
    },
    {
     "name": "stderr",
     "output_type": "stream",
     "text": [
      "Traceback (most recent call last):\n",
      "  File \"/Applications/freesurfer/7.4.1/python/scripts/mri_synthstrip\", line 215, in <module>\n",
      "    image = sf.load_volume(args.image)\n",
      "  File \"/Applications/freesurfer/7.4.1/python/lib/python3.8/site-packages/surfa/io/framed.py\", line 39, in load_volume\n",
      "    return load_framed_array(filename=filename, atype=Volume, fmt=fmt)\n",
      "  File \"/Applications/freesurfer/7.4.1/python/lib/python3.8/site-packages/surfa/io/framed.py\", line 101, in load_framed_array\n",
      "    check_file_readability(filename)\n",
      "  File \"/Applications/freesurfer/7.4.1/python/lib/python3.8/site-packages/surfa/io/utils.py\", line 17, in check_file_readability\n",
      "    raise FileNotFoundError(f'{filename} is not a file')\n",
      "FileNotFoundError: flair_t2_registered_path.nii.gz is not a file\n"
     ]
    },
    {
     "name": "stdout",
     "output_type": "stream",
     "text": [
      "Configuring model on the CPU\n",
      "Running SynthStrip model version 1\n",
      "Input image read from: flair_t2_registered_path.nii.gz\n",
      "Processing frame (of 1): 1 done\n",
      "Masked image saved to: FLAIR_T2_EXTRACTED_BRAIN_synthstrip.nii.gz\n",
      "\n",
      "If you use SynthStrip in your analysis, please cite:\n",
      "----------------------------------------------------\n",
      "SynthStrip: Skull-Stripping for Any Brain Image\n",
      "A Hoopes, JS Mora, AV Dalca, B Fischl, M Hoffmann\n",
      "NeuroImage 206 (2022), 119474\n",
      "https://doi.org/10.1016/j.neuroimage.2022.119474 \n",
      "\n",
      "Website: https://w3id.org/synthstrip\n",
      "\n",
      "Configuring model on the CPU\n",
      "Running SynthStrip model version 1\n",
      "Input image read from: flair_t2_registered_path.nii.gz\n",
      "Processing frame (of 1): 1 done\n",
      "Masked image saved to: FLAIR_T2_EXTRACTED_BRAIN_synthstrip.nii.gz\n",
      "\n",
      "If you use SynthStrip in your analysis, please cite:\n",
      "----------------------------------------------------\n",
      "SynthStrip: Skull-Stripping for Any Brain Image\n",
      "A Hoopes, JS Mora, AV Dalca, B Fischl, M Hoffmann\n",
      "NeuroImage 206 (2022), 119474\n",
      "https://doi.org/10.1016/j.neuroimage.2022.119474 \n",
      "\n",
      "Website: https://w3id.org/synthstrip\n",
      "\n"
     ]
    }
   ],
   "source": [
    "for row, column in df.iterrows():\n",
    "    folder_name = column['Folder_name']\n",
    "    \n",
    "\n",
    "    os.chdir(f'/Users/helia/Desktop/Projects/Leukodystrophy/MLC/{folder_name}')\n",
    "    \n",
    "    mri_synthstrip_command = f'mri_synthstrip  --i flair_t2_registered_path.nii.gz --o FLAIR_T2_EXTRACTED_BRAIN_synthstrip.nii.gz'\n",
    "    subprocess.run(mri_synthstrip_command, shell=True)\n",
    "        "
   ]
  },
  {
   "cell_type": "markdown",
   "id": "561c83f4-9856-4b4b-9977-ce56d0bd9fef",
   "metadata": {},
   "source": [
    "#### Nonlinear registration of NeWMaPs to the native spaces \n",
    "\n",
    "ANTs\n",
    "\n",
    "Atlas Neurodevelopmental atlas (NeWMaP):\n",
    "    https://zenodo.org/records/6782004\n",
    "    \n",
    "    \n",
    "ANTs: \n",
    "        Register FLAIR_T2_ratio to T2 template\n",
    "        Register ADC to T2 template\n",
    "        Inverse Warp field from template space to native space\n",
    "        \n",
    "        \n",
    "  [Back Home](#MLC)      "
   ]
  },
  {
   "cell_type": "code",
   "execution_count": 200,
   "id": "40728106-4292-4771-8e98-466b38c42796",
   "metadata": {},
   "outputs": [
    {
     "name": "stdout",
     "output_type": "stream",
     "text": [
      "\u001b[31mERROR: Could not find a version that satisfies the requirement antspy (from versions: none)\u001b[0m\u001b[31m\n",
      "\u001b[0m\u001b[31mERROR: No matching distribution found for antspy\u001b[0m\u001b[31m\n",
      "\u001b[0m"
     ]
    }
   ],
   "source": [
    "!pip install antspy\n",
    "\n",
    "\n"
   ]
  },
  {
   "cell_type": "code",
   "execution_count": 201,
   "id": "e58c0c25-abcb-4786-9ee4-cba68815399e",
   "metadata": {},
   "outputs": [
    {
     "name": "stdout",
     "output_type": "stream",
     "text": [
      "Collecting ants\n",
      "  Downloading ants-0.0.7.tar.gz (10 kB)\n",
      "  Preparing metadata (setup.py) ... \u001b[?25ldone\n",
      "\u001b[?25hCollecting Django>=1.10.2\n",
      "  Downloading Django-4.2.7-py3-none-any.whl (8.0 MB)\n",
      "\u001b[2K     \u001b[90m━━━━━━━━━━━━━━━━━━━━━━━━━━━━━━━━━━━━━━━━\u001b[0m \u001b[32m8.0/8.0 MB\u001b[0m \u001b[31m339.5 kB/s\u001b[0m eta \u001b[36m0:00:00\u001b[0m00:01\u001b[0m00:01\u001b[0m\n",
      "\u001b[?25hCollecting gevent>=1.1.1\n",
      "  Downloading gevent-23.9.1.tar.gz (5.8 MB)\n",
      "\u001b[2K     \u001b[90m━━━━━━━━━━━━━━━━━━━━━━━━━━━━━━━━━━━━━━━━\u001b[0m \u001b[32m5.8/5.8 MB\u001b[0m \u001b[31m190.5 kB/s\u001b[0m eta \u001b[36m0:00:00\u001b[0m00:01\u001b[0m00:01\u001b[0m\n",
      "\u001b[?25h  Installing build dependencies ... \u001b[?25ldone\n",
      "\u001b[?25h  Getting requirements to build wheel ... \u001b[?25ldone\n",
      "\u001b[?25h  Installing backend dependencies ... \u001b[?25ldone\n",
      "\u001b[?25h  Preparing metadata (pyproject.toml) ... \u001b[?25ldone\n",
      "\u001b[?25hCollecting asgiref<4,>=3.6.0\n",
      "  Downloading asgiref-3.7.2-py3-none-any.whl (24 kB)\n",
      "Collecting sqlparse>=0.3.1\n",
      "  Downloading sqlparse-0.4.4-py3-none-any.whl (41 kB)\n",
      "\u001b[2K     \u001b[90m━━━━━━━━━━━━━━━━━━━━━━━━━━━━━━━━━━━━━━━━\u001b[0m \u001b[32m41.2/41.2 kB\u001b[0m \u001b[31m91.6 kB/s\u001b[0m eta \u001b[36m0:00:00\u001b[0m00:01\u001b[0m00:01\u001b[0m\n",
      "\u001b[?25hRequirement already satisfied: greenlet>=2.0.0 in /Users/helia/anaconda3/lib/python3.10/site-packages (from gevent>=1.1.1->ants) (2.0.1)\n",
      "Collecting zope.event\n",
      "  Downloading zope.event-5.0-py3-none-any.whl (6.8 kB)\n",
      "Requirement already satisfied: zope.interface in /Users/helia/anaconda3/lib/python3.10/site-packages (from gevent>=1.1.1->ants) (5.4.0)\n",
      "Requirement already satisfied: typing-extensions>=4 in /Users/helia/anaconda3/lib/python3.10/site-packages (from asgiref<4,>=3.6.0->Django>=1.10.2->ants) (4.4.0)\n",
      "Requirement already satisfied: setuptools in /Users/helia/anaconda3/lib/python3.10/site-packages (from zope.event->gevent>=1.1.1->ants) (65.6.3)\n",
      "Building wheels for collected packages: ants, gevent\n",
      "  Building wheel for ants (setup.py) ... \u001b[?25ldone\n",
      "\u001b[?25h  Created wheel for ants: filename=ants-0.0.7-py3-none-any.whl size=14523 sha256=4f72e4b8f8fb41cd24a172311edbf2ffd5cc4fb8e488cd68e1fc221910964f5b\n",
      "  Stored in directory: /Users/helia/Library/Caches/pip/wheels/c3/65/d1/50029941d24a674bb34c216da2535d775ebc40d9e701ba7f05\n",
      "  Building wheel for gevent (pyproject.toml) ... \u001b[?25ldone\n",
      "\u001b[?25h  Created wheel for gevent: filename=gevent-23.9.1-cp310-cp310-macosx_10_9_x86_64.whl size=1733230 sha256=25c293c969425fea09a769988a67faf164d0352c942a7b77152f60b754a1b996\n",
      "  Stored in directory: /Users/helia/Library/Caches/pip/wheels/94/12/9a/85a576bddb6be40651792a8469c211fc264763f17b1e0603d6\n",
      "Successfully built ants gevent\n",
      "Installing collected packages: zope.event, sqlparse, asgiref, gevent, Django, ants\n",
      "Successfully installed Django-4.2.7 ants-0.0.7 asgiref-3.7.2 gevent-23.9.1 sqlparse-0.4.4 zope.event-5.0\n"
     ]
    }
   ],
   "source": [
    "!pip install ants"
   ]
  },
  {
   "cell_type": "code",
   "execution_count": 202,
   "id": "d2924ab9-9fa2-45a3-9c85-13abb3d69340",
   "metadata": {},
   "outputs": [],
   "source": [
    "import ants"
   ]
  },
  {
   "cell_type": "code",
   "execution_count": 205,
   "id": "d6d16b0b-c727-42da-9aa6-0e49a5a52359",
   "metadata": {},
   "outputs": [
    {
     "ename": "AttributeError",
     "evalue": "module 'ants' has no attribute 'image_read'",
     "output_type": "error",
     "traceback": [
      "\u001b[0;31m---------------------------------------------------------------------------\u001b[0m",
      "\u001b[0;31mAttributeError\u001b[0m                            Traceback (most recent call last)",
      "Cell \u001b[0;32mIn[205], line 10\u001b[0m\n\u001b[1;32m      7\u001b[0m os\u001b[38;5;241m.\u001b[39mchdir(\u001b[38;5;124mf\u001b[39m\u001b[38;5;124m'\u001b[39m\u001b[38;5;124m/Users/helia/Desktop/Projects/Leukodystrophy/MLC/\u001b[39m\u001b[38;5;132;01m{\u001b[39;00mfolder_name\u001b[38;5;132;01m}\u001b[39;00m\u001b[38;5;124m'\u001b[39m)\n\u001b[1;32m      8\u001b[0m \u001b[38;5;28;01mif\u001b[39;00m pd\u001b[38;5;241m.\u001b[39mnotna(\u001b[38;5;124m'\u001b[39m\u001b[38;5;124mFLAIR_T2_Ratio.nii.gz\u001b[39m\u001b[38;5;124m'\u001b[39m):\n\u001b[1;32m      9\u001b[0m      \u001b[38;5;66;03m# Load images\u001b[39;00m\n\u001b[0;32m---> 10\u001b[0m     flair_t2_ratio \u001b[38;5;241m=\u001b[39m \u001b[43mants\u001b[49m\u001b[38;5;241;43m.\u001b[39;49m\u001b[43mimage_read\u001b[49m(\u001b[38;5;124m'\u001b[39m\u001b[38;5;124mFLAIR_T2_Ratio.nii.gz\u001b[39m\u001b[38;5;124m'\u001b[39m)\n\u001b[1;32m     12\u001b[0m     t2_template \u001b[38;5;241m=\u001b[39m ants\u001b[38;5;241m.\u001b[39mimage_read(t2_template_path)\n\u001b[1;32m     16\u001b[0m \u001b[38;5;66;03m# Perform nonlinear registration of FLAIR_T2_ratio to T2 template\u001b[39;00m\n",
      "\u001b[0;31mAttributeError\u001b[0m: module 'ants' has no attribute 'image_read'"
     ]
    }
   ],
   "source": [
    "t2_template_path = '/Desktop/Projects/Leukodystrophy/dHCP_T2w_template.nii'\n",
    "\n",
    "for row, column in df.iterrows():\n",
    "    folder_name = column['Folder_name']\n",
    "    \n",
    "\n",
    "    os.chdir(f'/Users/helia/Desktop/Projects/Leukodystrophy/MLC/{folder_name}')\n",
    "    if pd.notna('FLAIR_T2_Ratio.nii.gz'):\n",
    "         # Load images\n",
    "        flair_t2_ratio = ants.image_read('FLAIR_T2_Ratio.nii.gz')\n",
    "    \n",
    "        t2_template = ants.image_read(t2_template_path)\n",
    "        \n",
    "   \n",
    "    \n",
    "    # Perform nonlinear registration of FLAIR_T2_ratio to T2 template\n",
    "    flair_t2_warped = ants.registration(fixed=t2_template, moving=flair_t2_ratio, type_of_transform='SyN')\n",
    "    \n",
    "    # Inverse Warp field from template space to native space for FLAIR_T2_ratio\n",
    "    flair_t2_inverse_warped = ants.apply_transforms(fixed=t2_template, moving=flair_t2_ratio, transformlist=flair_t2_warped['fwdtransforms'], interpolator='linear')\n",
    "    \n",
    "    \n",
    "\n",
    "    \n",
    "        "
   ]
  }
 ],
 "metadata": {
  "kernelspec": {
   "display_name": "Python 3 (ipykernel)",
   "language": "python",
   "name": "python3"
  },
  "language_info": {
   "codemirror_mode": {
    "name": "ipython",
    "version": 3
   },
   "file_extension": ".py",
   "mimetype": "text/x-python",
   "name": "python",
   "nbconvert_exporter": "python",
   "pygments_lexer": "ipython3",
   "version": "3.10.9"
  }
 },
 "nbformat": 4,
 "nbformat_minor": 5
}
